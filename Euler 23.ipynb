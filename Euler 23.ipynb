{
 "cells": [
  {
   "cell_type": "code",
   "execution_count": 4,
   "metadata": {
    "collapsed": true
   },
   "outputs": [],
   "source": [
    "import math"
   ]
  },
  {
   "cell_type": "code",
   "execution_count": 5,
   "metadata": {
    "collapsed": false
   },
   "outputs": [],
   "source": [
    "def sum_divisors(n):\n",
    "    factors = [1]\n",
    "    for i in xrange(2, int(math.ceil(math.sqrt(n)))+1):\n",
    "        if n % i == 0:\n",
    "            if i not in factors:\n",
    "                factors.append(i)\n",
    "            rem = n/i\n",
    "            if rem not in factors:\n",
    "                factors.append(rem)\n",
    "    return sum(factors)\n",
    "\n",
    "def check(n):\n",
    "    return sum_divisors(n)>n"
   ]
  },
  {
   "cell_type": "code",
   "execution_count": 6,
   "metadata": {
    "collapsed": false
   },
   "outputs": [
    {
     "name": "stdout",
     "output_type": "stream",
     "text": [
      "16\n"
     ]
    }
   ],
   "source": [
    "print sum_divisors(12)\n"
   ]
  },
  {
   "cell_type": "code",
   "execution_count": 9,
   "metadata": {
    "collapsed": false
   },
   "outputs": [
    {
     "name": "stdout",
     "output_type": "stream",
     "text": [
      "3 False\n",
      "4 False\n",
      "5 False\n",
      "6 False\n",
      "7 False\n",
      "8 False\n",
      "9 False\n",
      "10 False\n",
      "11 False\n",
      "12 True\n",
      "13 False\n",
      "14 False\n",
      "15 False\n",
      "16 False\n",
      "17 False\n",
      "18 True\n",
      "19 False\n"
     ]
    }
   ],
   "source": [
    "for i in range(3,20):\n",
    "    print i,check(i)"
   ]
  },
  {
   "cell_type": "code",
   "execution_count": 10,
   "metadata": {
    "collapsed": true
   },
   "outputs": [],
   "source": [
    "def generate_abundants():\n",
    "    abundant = 12\n",
    "    while True:\n",
    "        if check(abundant):\n",
    "            yield abundant\n",
    "        abundant +=1"
   ]
  },
  {
   "cell_type": "code",
   "execution_count": 11,
   "metadata": {
    "collapsed": false
   },
   "outputs": [],
   "source": [
    "abundants = [i for i in range(12,28123) if check(i)]"
   ]
  },
  {
   "cell_type": "code",
   "execution_count": 12,
   "metadata": {
    "collapsed": false
   },
   "outputs": [
    {
     "name": "stdout",
     "output_type": "stream",
     "text": [
      "6965\n",
      "28122\n"
     ]
    }
   ],
   "source": [
    "print len(abundants)\n",
    "print abundants[-1]"
   ]
  },
  {
   "cell_type": "code",
   "execution_count": 15,
   "metadata": {
    "collapsed": false
   },
   "outputs": [],
   "source": [
    "def solve23():\n",
    "    total = 0\n",
    "    for i in range(1,28123):\n",
    "        j = 0\n",
    "        summable = False\n",
    "        while abundants[j]<i:\n",
    "            if i-abundants[j] in abundants:\n",
    "                summable = True\n",
    "                break\n",
    "            j += 1\n",
    "        if not summable:\n",
    "            total += i\n",
    "    return total"
   ]
  },
  {
   "cell_type": "code",
   "execution_count": 16,
   "metadata": {
    "collapsed": false
   },
   "outputs": [],
   "source": [
    "pregnants = []\n",
    "# pregnants are the numbers that are the product of two abundant\n",
    "for i in abundants:\n",
    "    for j in abundants:\n",
    "        if (i+j)<28123:\n",
    "            pregnants.append(i+j)"
   ]
  },
  {
   "cell_type": "code",
   "execution_count": 17,
   "metadata": {
    "collapsed": false
   },
   "outputs": [
    {
     "name": "stdout",
     "output_type": "stream",
     "text": [
      "28122\n",
      "24294132\n"
     ]
    }
   ],
   "source": [
    "print pregnants[-1]\n",
    "print len(pregnants)\n",
    "# smaller = []\n",
    "# for i in pregnants:\n",
    "#         if i<28123 and i not in smaller:\n",
    "#             smaller.append(i)"
   ]
  },
  {
   "cell_type": "code",
   "execution_count": 21,
   "metadata": {
    "collapsed": false
   },
   "outputs": [],
   "source": [
    "uniquepregnants = list(set(pregnants))"
   ]
  },
  {
   "cell_type": "code",
   "execution_count": 22,
   "metadata": {
    "collapsed": false
   },
   "outputs": [
    {
     "name": "stdout",
     "output_type": "stream",
     "text": [
      "26666\n"
     ]
    }
   ],
   "source": [
    "print len(uniquepregnants)"
   ]
  },
  {
   "cell_type": "code",
   "execution_count": 24,
   "metadata": {
    "collapsed": false
   },
   "outputs": [
    {
     "name": "stdout",
     "output_type": "stream",
     "text": [
      "4179871\n"
     ]
    }
   ],
   "source": [
    "total= 0\n",
    "for i in xrange(1,28123):\n",
    "    if i not in uniquepregnants:\n",
    "        total += i\n",
    "print total"
   ]
  },
  {
   "cell_type": "code",
   "execution_count": null,
   "metadata": {
    "collapsed": true
   },
   "outputs": [],
   "source": []
  }
 ],
 "metadata": {
  "kernelspec": {
   "display_name": "Python 2",
   "language": "python",
   "name": "python2"
  },
  "language_info": {
   "codemirror_mode": {
    "name": "ipython",
    "version": 2
   },
   "file_extension": ".py",
   "mimetype": "text/x-python",
   "name": "python",
   "nbconvert_exporter": "python",
   "pygments_lexer": "ipython2",
   "version": "2.7.11"
  }
 },
 "nbformat": 4,
 "nbformat_minor": 0
}
