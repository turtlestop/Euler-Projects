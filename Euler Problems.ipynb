{
 "cells": [
  {
   "cell_type": "code",
   "execution_count": 33,
   "metadata": {
    "collapsed": false
   },
   "outputs": [],
   "source": [
    "# Euler Problem 1\n",
    "\n",
    "# If we list all the natural numbers below 10 that are multiples of 3 or 5, we get 3, 5, 6 and 9. \n",
    "# The sum of these multiples is 23.\n",
    "\n",
    "# Find the sum of all the multiples of 3 or 5 below 1000.\n",
    "\n",
    "import math"
   ]
  },
  {
   "cell_type": "code",
   "execution_count": 6,
   "metadata": {
    "collapsed": false
   },
   "outputs": [
    {
     "name": "stdout",
     "output_type": "stream",
     "text": [
      "4613732\n"
     ]
    }
   ],
   "source": [
    "# Problem 2: sum of even fibonacci numbers no greater than 4,000,000.\n",
    "\n",
    "fib1 = 1\n",
    "fib2 = 1\n",
    "sum = 0\n",
    "while fib2 <= 4000000:\n",
    "    if fib2 % 2 == 0:\n",
    "        sum += fib2\n",
    "    oldfib2 = fib2\n",
    "    fib2 += fib1 \n",
    "    fib1 = oldfib2\n",
    "#     print fib2\n",
    "    \n",
    "print sum    "
   ]
  },
  {
   "cell_type": "code",
   "execution_count": 7,
   "metadata": {
    "collapsed": false
   },
   "outputs": [],
   "source": [
    "# Problem 3: largest prime factor of 600851475143\n",
    "# prime factorizations are unique.\n",
    "# if a prime number p divides n, and n = m1 x m2, it won't generally \n",
    "# be the case that p divides m1 or m2?"
   ]
  },
  {
   "cell_type": "code",
   "execution_count": 31,
   "metadata": {
    "collapsed": false
   },
   "outputs": [],
   "source": [
    "def is_prime(number):\n",
    "    if number > 1:\n",
    "        if number == 2:\n",
    "            return True\n",
    "        if number % 2 == 0:\n",
    "            return False\n",
    "        for current in range(3, int(math.sqrt(number) + 1), 2):\n",
    "            if number % current == 0: \n",
    "                return False\n",
    "        return True\n",
    "    return False\n",
    "\n",
    "def next_prime(n):\n",
    "    while True:\n",
    "        if is_prime(n):\n",
    "            yield n\n",
    "        n +=1"
   ]
  },
  {
   "cell_type": "code",
   "execution_count": 29,
   "metadata": {
    "collapsed": true
   },
   "outputs": [],
   "source": [
    "# ALGORITHM: take a prime, see if it divides n. then check if\n",
    "# then result is prime. \n",
    "# until it doesn't any more. Then check the next highest prime\n",
    "\n",
    "def prime_factorize(n):\n",
    "    s = next_prime(2)\n",
    "    current = n\n",
    "    prime_factors = []\n",
    "    while not is_prime(current):\n",
    "        divisor = next(s)\n",
    "        while current % divisor == 0:\n",
    "            prime_factors.append(divisor)\n",
    "            current = current/divisor\n",
    "    prime_factors.append(current)\n",
    "    return prime_factors\n",
    "\n"
   ]
  },
  {
   "cell_type": "code",
   "execution_count": 11,
   "metadata": {
    "collapsed": false
   },
   "outputs": [
    {
     "name": "stdout",
     "output_type": "stream",
     "text": [
      "6857\n"
     ]
    }
   ],
   "source": [
    "print max(prime_factorize(600851475143))"
   ]
  },
  {
   "cell_type": "code",
   "execution_count": 14,
   "metadata": {
    "collapsed": false
   },
   "outputs": [
    {
     "name": "stdout",
     "output_type": "stream",
     "text": [
      "[2, 3, 4, 5]\n"
     ]
    }
   ],
   "source": [
    "# 2520 is the smallest number that can be divided by each of the numbers \n",
    "# from 1 to 10 without any remainder.\n",
    "\n",
    "# What is the smallest positive number that is evenly divisible \n",
    "# by all of the numbers from 1 to 20?\n",
    "\n",
    "x = [i for i in range(2,6)]\n",
    "print x"
   ]
  },
  {
   "cell_type": "code",
   "execution_count": 24,
   "metadata": {
    "collapsed": true
   },
   "outputs": [],
   "source": [
    "def super_divisible(x):\n",
    "    for i in range(2,21):\n",
    "        if not x%i == 0:\n",
    "            return False\n",
    "    return True"
   ]
  },
  {
   "cell_type": "code",
   "execution_count": null,
   "metadata": {
    "collapsed": true
   },
   "outputs": [],
   "source": [
    "def lowest_common_multiple(lst):\n",
    "    "
   ]
  },
  {
   "cell_type": "code",
   "execution_count": 25,
   "metadata": {
    "collapsed": true
   },
   "outputs": [],
   "source": [
    "def find_sd():\n",
    "    start = 2520\n",
    "    while not super_divisible(start):\n",
    "        start = start + 2520\n",
    "    return start"
   ]
  },
  {
   "cell_type": "code",
   "execution_count": null,
   "metadata": {
    "collapsed": false
   },
   "outputs": [],
   "source": [
    "print find_sd()"
   ]
  },
  {
   "cell_type": "code",
   "execution_count": null,
   "metadata": {
    "collapsed": true
   },
   "outputs": [],
   "source": [
    "# The sum of the squares of the first ten natural numbers is,\n",
    "# 12 + 22 + ... + 102 = 385\n",
    "# The square of the sum of the first ten natural numbers is,\n",
    "# (1 + 2 + ... + 10)2 = 552 = 3025\n",
    "# Hence the difference between the sum of the squares of the first ten natural numbers and \\\n",
    "# the square of the sum is 3025 − 385 = 2640.\n",
    "\n",
    "# Find the difference between the sum of the squares of the first one hundred natural numbers\n",
    "# and the square of the sum."
   ]
  },
  {
   "cell_type": "code",
   "execution_count": 1,
   "metadata": {
    "collapsed": false
   },
   "outputs": [
    {
     "name": "stdout",
     "output_type": "stream",
     "text": [
      "25164150\n"
     ]
    }
   ],
   "source": [
    "def brute():\n",
    "    sum_squares = 0\n",
    "    sum_tosquare = 0\n",
    "    for i in range(101):\n",
    "        sum_squares += i*i\n",
    "        sum_tosquare += i\n",
    "    sum_tosquare = sum_tosquare*sum_tosquare\n",
    "    return sum_tosquare - sum_squares\n",
    "\n",
    "print brute()        \n",
    "        "
   ]
  },
  {
   "cell_type": "code",
   "execution_count": 3,
   "metadata": {
    "collapsed": true
   },
   "outputs": [],
   "source": [
    "# By listing the first six prime numbers: 2, 3, 5, 7, 11, and 13, we can see that the \n",
    "#     6th prime is 13.\n",
    "\n",
    "# What is the 10 001st prime number?"
   ]
  },
  {
   "cell_type": "code",
   "execution_count": 8,
   "metadata": {
    "collapsed": true
   },
   "outputs": [],
   "source": [
    "def find_nth_prime(en):\n",
    "    nth = 1\n",
    "    s = next_prime(1)\n",
    "    prime = next(s)\n",
    "    while nth < en:\n",
    "        nth+=1\n",
    "        prime = next(s)\n",
    "    return prime\n",
    "        \n",
    "    "
   ]
  },
  {
   "cell_type": "code",
   "execution_count": 11,
   "metadata": {
    "collapsed": false
   },
   "outputs": [
    {
     "name": "stdout",
     "output_type": "stream",
     "text": [
      "104743\n"
     ]
    }
   ],
   "source": [
    "print find_nth_prime(10001)"
   ]
  },
  {
   "cell_type": "code",
   "execution_count": 16,
   "metadata": {
    "collapsed": false
   },
   "outputs": [],
   "source": [
    "s = \"\"\"73167176531330624919225119674426574742355349194934\n",
    "96983520312774506326239578318016984801869478851843\n",
    "85861560789112949495459501737958331952853208805511\n",
    "12540698747158523863050715693290963295227443043557\n",
    "66896648950445244523161731856403098711121722383113\n",
    "62229893423380308135336276614282806444486645238749\n",
    "30358907296290491560440772390713810515859307960866\n",
    "70172427121883998797908792274921901699720888093776\n",
    "65727333001053367881220235421809751254540594752243\n",
    "52584907711670556013604839586446706324415722155397\n",
    "53697817977846174064955149290862569321978468622482\n",
    "83972241375657056057490261407972968652414535100474\n",
    "82166370484403199890008895243450658541227588666881\n",
    "16427171479924442928230863465674813919123162824586\n",
    "17866458359124566529476545682848912883142607690042\n",
    "24219022671055626321111109370544217506941658960408\n",
    "07198403850962455444362981230987879927244284909188\n",
    "84580156166097919133875499200524063689912560717606\n",
    "05886116467109405077541002256983155200055935729725\n",
    "71636269561882670428252483600823257530420752963450\"\"\""
   ]
  },
  {
   "cell_type": "code",
   "execution_count": 51,
   "metadata": {
    "collapsed": true
   },
   "outputs": [],
   "source": [
    "def producter(lst):\n",
    "    product = 1\n",
    "    for i in lst:\n",
    "        product *= i\n",
    "    return product\n",
    "\n",
    "def largest_product(st, num):\n",
    "    oldproduct = 1\n",
    "    for i in range(988):\n",
    "        adjacents = st[i:i+num]\n",
    "        numbers = [int(i) for i in adjacents if not i == '']\n",
    "        product = producter(numbers)\n",
    "        if product > oldproduct:\n",
    "            oldproduct = product\n",
    "    return oldproduct"
   ]
  },
  {
   "cell_type": "code",
   "execution_count": 49,
   "metadata": {
    "collapsed": false
   },
   "outputs": [
    {
     "name": "stdout",
     "output_type": "stream",
     "text": [
      "1019\n",
      "1000\n"
     ]
    }
   ],
   "source": [
    "print len(s)\n",
    "short = s.replace('\\n', '')\n",
    "print len(short)"
   ]
  },
  {
   "cell_type": "code",
   "execution_count": 53,
   "metadata": {
    "collapsed": false
   },
   "outputs": [
    {
     "name": "stdout",
     "output_type": "stream",
     "text": [
      "23514624000\n"
     ]
    }
   ],
   "source": [
    "print largest_product(short, 13)"
   ]
  },
  {
   "cell_type": "code",
   "execution_count": 54,
   "metadata": {
    "collapsed": true
   },
   "outputs": [],
   "source": [
    "# problem 9\n",
    "\n",
    "# A Pythagorean triplet is a set of three natural numbers, a < b < c, for which,\n",
    "\n",
    "# a2 + b2 = c2\n",
    "# For example, 32 + 42 = 9 + 16 = 25 = 52.\n",
    "\n",
    "# There exists exactly one Pythagorean triplet for which a + b + c = 1000.\n",
    "# Find the product abc."
   ]
  },
  {
   "cell_type": "code",
   "execution_count": 55,
   "metadata": {
    "collapsed": false
   },
   "outputs": [
    {
     "name": "stdout",
     "output_type": "stream",
     "text": [
      "12\n"
     ]
    }
   ],
   "source": [
    "print 3+4+5"
   ]
  },
  {
   "cell_type": "code",
   "execution_count": 60,
   "metadata": {
    "collapsed": true
   },
   "outputs": [],
   "source": [
    "def find_pythagorean_triplet():\n",
    "    for x in range(1,1001):\n",
    "        for y in range(1, x):\n",
    "            z = 1000 - (x+y)\n",
    "            if x**2 == (y**2 + z**2):\n",
    "                return [x, y, z]\n",
    "    return []"
   ]
  },
  {
   "cell_type": "code",
   "execution_count": 61,
   "metadata": {
    "collapsed": false
   },
   "outputs": [
    {
     "name": "stdout",
     "output_type": "stream",
     "text": [
      "[425, 200, 375]\n"
     ]
    }
   ],
   "source": [
    "print find_pythagorean_triplet()"
   ]
  },
  {
   "cell_type": "code",
   "execution_count": 62,
   "metadata": {
    "collapsed": false
   },
   "outputs": [
    {
     "name": "stdout",
     "output_type": "stream",
     "text": [
      "31875000\n"
     ]
    }
   ],
   "source": [
    "print producter([425, 200, 375])"
   ]
  },
  {
   "cell_type": "code",
   "execution_count": null,
   "metadata": {
    "collapsed": true
   },
   "outputs": [],
   "source": [
    "# Problem 10\n",
    "\n",
    "# The sum of the primes below 10 is 2 + 3 + 5 + 7 = 17.\n",
    "\n",
    "# Find the sum of all the primes below two million."
   ]
  },
  {
   "cell_type": "code",
   "execution_count": 101,
   "metadata": {
    "collapsed": false
   },
   "outputs": [],
   "source": [
    "def sum_primes_below(n):\n",
    "    s = next_prime(2)\n",
    "    primesum = 0\n",
    "    newprime = 0\n",
    "    while newprime < n:\n",
    "        primesum += newprime\n",
    "        newprime = next(s)\n",
    "    return primesum"
   ]
  },
  {
   "cell_type": "code",
   "execution_count": 102,
   "metadata": {
    "collapsed": false
   },
   "outputs": [
    {
     "name": "stdout",
     "output_type": "stream",
     "text": [
      "142913828922\n"
     ]
    }
   ],
   "source": [
    "print sum_primes_below(2000000)"
   ]
  },
  {
   "cell_type": "code",
   "execution_count": 103,
   "metadata": {
    "collapsed": true
   },
   "outputs": [],
   "source": [
    "arr = \"\"\"08 02 22 97 38 15 00 40 00 75 04 05 07 78 52 12 50 77 91 08\n",
    "49 49 99 40 17 81 18 57 60 87 17 40 98 43 69 48 04 56 62 00\n",
    "81 49 31 73 55 79 14 29 93 71 40 67 53 88 30 03 49 13 36 65\n",
    "52 70 95 23 04 60 11 42 69 24 68 56 01 32 56 71 37 02 36 91\n",
    "22 31 16 71 51 67 63 89 41 92 36 54 22 40 40 28 66 33 13 80\n",
    "24 47 32 60 99 03 45 02 44 75 33 53 78 36 84 20 35 17 12 50\n",
    "32 98 81 28 64 23 67 10 26 38 40 67 59 54 70 66 18 38 64 70\n",
    "67 26 20 68 02 62 12 20 95 63 94 39 63 08 40 91 66 49 94 21\n",
    "24 55 58 05 66 73 99 26 97 17 78 78 96 83 14 88 34 89 63 72\n",
    "21 36 23 09 75 00 76 44 20 45 35 14 00 61 33 97 34 31 33 95\n",
    "78 17 53 28 22 75 31 67 15 94 03 80 04 62 16 14 09 53 56 92\n",
    "16 39 05 42 96 35 31 47 55 58 88 24 00 17 54 24 36 29 85 57\n",
    "86 56 00 48 35 71 89 07 05 44 44 37 44 60 21 58 51 54 17 58\n",
    "19 80 81 68 05 94 47 69 28 73 92 13 86 52 17 77 04 89 55 40\n",
    "04 52 08 83 97 35 99 16 07 97 57 32 16 26 26 79 33 27 98 66\n",
    "88 36 68 87 57 62 20 72 03 46 33 67 46 55 12 32 63 93 53 69\n",
    "04 42 16 73 38 25 39 11 24 94 72 18 08 46 29 32 40 62 76 36\n",
    "20 69 36 41 72 30 23 88 34 62 99 69 82 67 59 85 74 04 36 16\n",
    "20 73 35 29 78 31 90 01 74 31 49 71 48 86 81 16 23 57 05 54\n",
    "01 70 54 71 83 51 54 69 16 92 33 48 61 43 52 01 89 19 67 48\"\"\"\n"
   ]
  },
  {
   "cell_type": "code",
   "execution_count": 104,
   "metadata": {
    "collapsed": true
   },
   "outputs": [],
   "source": [
    "arr = arr.split('\\n')"
   ]
  },
  {
   "cell_type": "code",
   "execution_count": 105,
   "metadata": {
    "collapsed": false
   },
   "outputs": [
    {
     "name": "stdout",
     "output_type": "stream",
     "text": [
      "['08 02 22 97 38 15 00 40 00 75 04 05 07 78 52 12 50 77 91 08', '49 49 99 40 17 81 18 57 60 87 17 40 98 43 69 48 04 56 62 00', '81 49 31 73 55 79 14 29 93 71 40 67 53 88 30 03 49 13 36 65', '52 70 95 23 04 60 11 42 69 24 68 56 01 32 56 71 37 02 36 91', '22 31 16 71 51 67 63 89 41 92 36 54 22 40 40 28 66 33 13 80', '24 47 32 60 99 03 45 02 44 75 33 53 78 36 84 20 35 17 12 50', '32 98 81 28 64 23 67 10 26 38 40 67 59 54 70 66 18 38 64 70', '67 26 20 68 02 62 12 20 95 63 94 39 63 08 40 91 66 49 94 21', '24 55 58 05 66 73 99 26 97 17 78 78 96 83 14 88 34 89 63 72', '21 36 23 09 75 00 76 44 20 45 35 14 00 61 33 97 34 31 33 95', '78 17 53 28 22 75 31 67 15 94 03 80 04 62 16 14 09 53 56 92', '16 39 05 42 96 35 31 47 55 58 88 24 00 17 54 24 36 29 85 57', '86 56 00 48 35 71 89 07 05 44 44 37 44 60 21 58 51 54 17 58', '19 80 81 68 05 94 47 69 28 73 92 13 86 52 17 77 04 89 55 40', '04 52 08 83 97 35 99 16 07 97 57 32 16 26 26 79 33 27 98 66', '88 36 68 87 57 62 20 72 03 46 33 67 46 55 12 32 63 93 53 69', '04 42 16 73 38 25 39 11 24 94 72 18 08 46 29 32 40 62 76 36', '20 69 36 41 72 30 23 88 34 62 99 69 82 67 59 85 74 04 36 16', '20 73 35 29 78 31 90 01 74 31 49 71 48 86 81 16 23 57 05 54', '01 70 54 71 83 51 54 69 16 92 33 48 61 43 52 01 89 19 67 48']\n"
     ]
    }
   ],
   "source": [
    "print arr"
   ]
  },
  {
   "cell_type": "code",
   "execution_count": 110,
   "metadata": {
    "collapsed": true
   },
   "outputs": [],
   "source": [
    "narr = []\n",
    "for line in arr:\n",
    "    nline = line.split(' ')\n",
    "    emptyline = []\n",
    "    for num in nline:\n",
    "        emptyline.append(int(num))\n",
    "    narr.append(emptyline)\n",
    "    "
   ]
  },
  {
   "cell_type": "code",
   "execution_count": 111,
   "metadata": {
    "collapsed": false
   },
   "outputs": [
    {
     "name": "stdout",
     "output_type": "stream",
     "text": [
      "[[8, 2, 22, 97, 38, 15, 0, 40, 0, 75, 4, 5, 7, 78, 52, 12, 50, 77, 91, 8], [49, 49, 99, 40, 17, 81, 18, 57, 60, 87, 17, 40, 98, 43, 69, 48, 4, 56, 62, 0], [81, 49, 31, 73, 55, 79, 14, 29, 93, 71, 40, 67, 53, 88, 30, 3, 49, 13, 36, 65], [52, 70, 95, 23, 4, 60, 11, 42, 69, 24, 68, 56, 1, 32, 56, 71, 37, 2, 36, 91], [22, 31, 16, 71, 51, 67, 63, 89, 41, 92, 36, 54, 22, 40, 40, 28, 66, 33, 13, 80], [24, 47, 32, 60, 99, 3, 45, 2, 44, 75, 33, 53, 78, 36, 84, 20, 35, 17, 12, 50], [32, 98, 81, 28, 64, 23, 67, 10, 26, 38, 40, 67, 59, 54, 70, 66, 18, 38, 64, 70], [67, 26, 20, 68, 2, 62, 12, 20, 95, 63, 94, 39, 63, 8, 40, 91, 66, 49, 94, 21], [24, 55, 58, 5, 66, 73, 99, 26, 97, 17, 78, 78, 96, 83, 14, 88, 34, 89, 63, 72], [21, 36, 23, 9, 75, 0, 76, 44, 20, 45, 35, 14, 0, 61, 33, 97, 34, 31, 33, 95], [78, 17, 53, 28, 22, 75, 31, 67, 15, 94, 3, 80, 4, 62, 16, 14, 9, 53, 56, 92], [16, 39, 5, 42, 96, 35, 31, 47, 55, 58, 88, 24, 0, 17, 54, 24, 36, 29, 85, 57], [86, 56, 0, 48, 35, 71, 89, 7, 5, 44, 44, 37, 44, 60, 21, 58, 51, 54, 17, 58], [19, 80, 81, 68, 5, 94, 47, 69, 28, 73, 92, 13, 86, 52, 17, 77, 4, 89, 55, 40], [4, 52, 8, 83, 97, 35, 99, 16, 7, 97, 57, 32, 16, 26, 26, 79, 33, 27, 98, 66], [88, 36, 68, 87, 57, 62, 20, 72, 3, 46, 33, 67, 46, 55, 12, 32, 63, 93, 53, 69], [4, 42, 16, 73, 38, 25, 39, 11, 24, 94, 72, 18, 8, 46, 29, 32, 40, 62, 76, 36], [20, 69, 36, 41, 72, 30, 23, 88, 34, 62, 99, 69, 82, 67, 59, 85, 74, 4, 36, 16], [20, 73, 35, 29, 78, 31, 90, 1, 74, 31, 49, 71, 48, 86, 81, 16, 23, 57, 5, 54], [1, 70, 54, 71, 83, 51, 54, 69, 16, 92, 33, 48, 61, 43, 52, 1, 89, 19, 67, 48]]\n"
     ]
    }
   ],
   "source": [
    "print narr"
   ]
  },
  {
   "cell_type": "code",
   "execution_count": 132,
   "metadata": {
    "collapsed": true
   },
   "outputs": [],
   "source": [
    "def adjacent_product():\n",
    "    maxsum = 0\n",
    "    for i in range(20):\n",
    "        for j in range(20):\n",
    "            # check up:\n",
    "            if i>2:\n",
    "                prod = 1\n",
    "                for x in range(4):\n",
    "                      prod *= narr[i-x][j]\n",
    "                maxsum = max(maxsum, prod)\n",
    "            if j>2:\n",
    "                prod = 1\n",
    "                for x in range(4):\n",
    "                      prod *= narr[i][j-x]\n",
    "                maxsum = max(maxsum, prod)\n",
    "            if i<17:\n",
    "                prod = 1\n",
    "                for x in range(4):\n",
    "                      prod *= narr[i+x][j]\n",
    "                maxsum = max(maxsum, prod)\n",
    "            if j<17:\n",
    "                prod = 1\n",
    "                for x in range(4):\n",
    "                      prod *= narr[i][j+x]\n",
    "                maxsum = max(maxsum, prod)\n",
    "            if i>2 and j>2:\n",
    "                prod = 1\n",
    "                for x in range(4):\n",
    "                      prod *= narr[i-x][j-x]\n",
    "                maxsum = max(maxsum, prod)\n",
    "            if i>2 and j<17:\n",
    "                prod = 1\n",
    "                for x in range(4):\n",
    "                      prod *= narr[i-x][j+x]\n",
    "                maxsum = max(maxsum, prod)\n",
    "            if i<17 and j>2:\n",
    "                prod = 1\n",
    "                for x in range(4):\n",
    "                      prod *= narr[i+x][j-x]\n",
    "                maxsum = max(maxsum, prod)\n",
    "            if i<17 and j<17:\n",
    "                prod = 1\n",
    "                for x in range(4):\n",
    "                      prod *= narr[i+x][j+x]\n",
    "                maxsum = max(maxsum, prod)\n",
    "    return maxsum"
   ]
  },
  {
   "cell_type": "code",
   "execution_count": 133,
   "metadata": {
    "collapsed": false
   },
   "outputs": [
    {
     "name": "stdout",
     "output_type": "stream",
     "text": [
      "70600674\n"
     ]
    }
   ],
   "source": [
    "print adjacent_product()"
   ]
  },
  {
   "cell_type": "code",
   "execution_count": 121,
   "metadata": {
    "collapsed": false
   },
   "outputs": [
    {
     "name": "stdout",
     "output_type": "stream",
     "text": [
      "0\n",
      "1\n",
      "2\n",
      "3\n"
     ]
    }
   ],
   "source": [
    "for i in range(4):\n",
    "    print i"
   ]
  },
  {
   "cell_type": "code",
   "execution_count": 129,
   "metadata": {
    "collapsed": true
   },
   "outputs": [],
   "source": [
    "def dirs(i,j):\n",
    "    maxsum = 0\n",
    "    if i>2:\n",
    "        prod = 1\n",
    "        for x in range(4):\n",
    "              prod *= narr[i-x][j]\n",
    "        maxsum = max(maxsum, prod)\n",
    "    if j>2:\n",
    "        prod = 1\n",
    "        for x in range(4):\n",
    "              prod *= narr[i][j-x]\n",
    "        maxsum = max(maxsum, prod)\n",
    "    if i<17:\n",
    "        prod = 1\n",
    "        for x in range(4):\n",
    "              prod *= narr[i+x][j]\n",
    "        maxsum = max(maxsum, prod)\n",
    "    if j<17:\n",
    "        prod = 1\n",
    "        for x in range(4):\n",
    "              prod *= narr[i][j+x]\n",
    "        maxsum = max(maxsum, prod)\n",
    "    if i>2 and j>2:\n",
    "        prod = 1\n",
    "        for x in range(4):\n",
    "              prod *= narr[i-x][j-y]\n",
    "        maxsum = max(maxsum, prod)\n",
    "    if i>2 and j<17:\n",
    "        prod = 1\n",
    "        for x in range(4):\n",
    "              prod *= narr[i-x][j+y]\n",
    "        maxsum = max(maxsum, prod)\n",
    "    if i<17 and j>2:\n",
    "        prod = 1\n",
    "        for x in range(4):\n",
    "              prod *= narr[i+x][j-y]\n",
    "        maxsum = max(maxsum, prod)\n",
    "    if i<17 and j<17:\n",
    "        prod = 1\n",
    "        for x in range(4):\n",
    "              prod *= narr[i+x][j+y]\n",
    "        maxsum = max(maxsum, prod)\n",
    "    return maxsum"
   ]
  },
  {
   "cell_type": "code",
   "execution_count": 128,
   "metadata": {
    "collapsed": false
   },
   "outputs": [
    {
     "name": "stdout",
     "output_type": "stream",
     "text": [
      "1651104\n"
     ]
    }
   ],
   "source": [
    "print dirs(0,0)"
   ]
  },
  {
   "cell_type": "code",
   "execution_count": 134,
   "metadata": {
    "collapsed": true
   },
   "outputs": [],
   "source": [
    "# What is the value of the first triangle number to have over five hundred divisors?\n"
   ]
  },
  {
   "cell_type": "raw",
   "metadata": {},
   "source": [
    "import math"
   ]
  },
  {
   "cell_type": "code",
   "execution_count": 4,
   "metadata": {
    "collapsed": true
   },
   "outputs": [],
   "source": [
    "import math"
   ]
  },
  {
   "cell_type": "code",
   "execution_count": 21,
   "metadata": {
    "collapsed": false
   },
   "outputs": [],
   "source": [
    "def count_divisors(n):\n",
    "    divs = 1\n",
    "    sqrt = math.sqrt(n)\n",
    "    intsqrt = int(sqrt)\n",
    "    if sqrt*sqrt == n:\n",
    "        divs-=1\n",
    "    for i in range(1,intsqrt):\n",
    "        if n%i == 0:\n",
    "            divs += 2\n",
    "    return divs"
   ]
  },
  {
   "cell_type": "code",
   "execution_count": 22,
   "metadata": {
    "collapsed": false
   },
   "outputs": [
    {
     "data": {
      "text/plain": [
       "3"
      ]
     },
     "execution_count": 22,
     "metadata": {},
     "output_type": "execute_result"
    }
   ],
   "source": [
    "count_divisors(6)"
   ]
  },
  {
   "cell_type": "code",
   "execution_count": 46,
   "metadata": {
    "collapsed": true
   },
   "outputs": [],
   "source": [
    "def generate_triangles():\n",
    "    stage = 1\n",
    "    triangle = 1\n",
    "    while True:\n",
    "        yield triangle\n",
    "        stage += 1\n",
    "        triangle += stage"
   ]
  },
  {
   "cell_type": "code",
   "execution_count": 7,
   "metadata": {
    "collapsed": false
   },
   "outputs": [],
   "source": []
  },
  {
   "cell_type": "code",
   "execution_count": null,
   "metadata": {
    "collapsed": false
   },
   "outputs": [],
   "source": [
    "print solve_12()"
   ]
  },
  {
   "cell_type": "code",
   "execution_count": 27,
   "metadata": {
    "collapsed": false
   },
   "outputs": [],
   "source": [
    "def calculate_triangles(x):\n",
    "    rnum = x + 1\n",
    "    triangle = (x * rnum)/2\n",
    "    lfactors = count_divisors(x)\n",
    "    rfactors =  count_divisors(rnum)\n",
    "    factors = lfactors + rfactors\n",
    "    return [triangle, factors]\n",
    "    "
   ]
  },
  {
   "cell_type": "code",
   "execution_count": 92,
   "metadata": {
    "collapsed": false,
    "scrolled": true
   },
   "outputs": [],
   "source": [
    "def divisors(n):\n",
    "    number_of_factors = 0\n",
    "    for i in range(1, int(math.ceil(math.sqrt(n)))):\n",
    "        if n % i == 0:\n",
    "            number_of_factors +=2\n",
    "    return number_of_factors"
   ]
  },
  {
   "cell_type": "code",
   "execution_count": 86,
   "metadata": {
    "collapsed": false
   },
   "outputs": [],
   "source": [
    "def count_divisors(n):\n",
    "    divs = 0\n",
    "    sqrt = math.sqrt(n)\n",
    "    intsqrt = int(math.ceil(sqrt)+1)\n",
    "\n",
    "    for i in xrange(1,intsqrt):\n",
    "        if n%i == 0:\n",
    "            divs += 2\n",
    "        if i*i == n:\n",
    "            divs -= 1\n",
    "    return divs"
   ]
  },
  {
   "cell_type": "code",
   "execution_count": 93,
   "metadata": {
    "collapsed": false
   },
   "outputs": [
    {
     "name": "stdout",
     "output_type": "stream",
     "text": [
      "4\n",
      "6\n"
     ]
    }
   ],
   "source": [
    "print divisors(15)\n",
    "print count_divisors(28)"
   ]
  },
  {
   "cell_type": "code",
   "execution_count": 96,
   "metadata": {
    "collapsed": true
   },
   "outputs": [],
   "source": [
    "def solve_12():\n",
    "    start = time()\n",
    "    n = 1\n",
    "    triangle = 1\n",
    "    count_divisors = 1\n",
    "    while count_divisors <= 5:\n",
    "        n +=1\n",
    "        triangle = (n * n+1)/2\n",
    "        if n%2 == 0:\n",
    "            divisor = divisors(n/2)*divisors(n+1)\n",
    "        else:\n",
    "            divisor = divisors(n)*divisors((n+1)/2)\n",
    "    end = time()\n",
    "    elapsed = end - start\n",
    "    return \"found answer %s in %s seconds\" %(triangle, elapsed)"
   ]
  },
  {
   "cell_type": "code",
   "execution_count": 97,
   "metadata": {
    "collapsed": false
   },
   "outputs": [
    {
     "name": "stdout",
     "output_type": "stream",
     "text": [
      "found answer 61 in 0.000149011611938 seconds\n"
     ]
    }
   ],
   "source": [
    "print solve_12()"
   ]
  },
  {
   "cell_type": "code",
   "execution_count": 98,
   "metadata": {
    "collapsed": false
   },
   "outputs": [
    {
     "name": "stdout",
     "output_type": "stream",
     "text": [
      "76576500\n"
     ]
    }
   ],
   "source": [
    "def divisors(n):\n",
    "    number_of_factors = 0\n",
    "    for i in xrange(1, int(math.ceil(math.sqrt(n)))+1):\n",
    "        if n % i == 0:\n",
    "            number_of_factors +=2\n",
    "        if i*i==n:\n",
    "            number_of_factors -=1\n",
    "    return number_of_factors\n",
    "\n",
    "for n in xrange(1,1000000):\n",
    "    Tn=(n*(n+1))/2\n",
    "    if n%2==0:\n",
    "        cnt=divisors(n/2)*divisors(n+1)\n",
    "    else:\n",
    "        cnt=divisors(n)*divisors((n+1)/2)\n",
    "    if cnt >= 500:\n",
    "        print Tn\n",
    "        break"
   ]
  },
  {
   "cell_type": "code",
   "execution_count": null,
   "metadata": {
    "collapsed": true
   },
   "outputs": [],
   "source": []
  }
 ],
 "metadata": {
  "kernelspec": {
   "display_name": "Python 2",
   "language": "python",
   "name": "python2"
  },
  "language_info": {
   "codemirror_mode": {
    "name": "ipython",
    "version": 2
   },
   "file_extension": ".py",
   "mimetype": "text/x-python",
   "name": "python",
   "nbconvert_exporter": "python",
   "pygments_lexer": "ipython2",
   "version": "2.7.11"
  }
 },
 "nbformat": 4,
 "nbformat_minor": 0
}
