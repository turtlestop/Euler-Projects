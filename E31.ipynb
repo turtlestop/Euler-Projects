{
 "cells": [
  {
   "cell_type": "code",
   "execution_count": 1,
   "metadata": {
    "collapsed": false,
    "scrolled": true
   },
   "outputs": [
    {
     "data": {
      "text/plain": [
       "'\\nIn England the currency is made up of pound, \\xc2\\xa3, and pence, p, and there are eight coins in general circulation:\\n\\n1p, 2p, 5p, 10p, 20p, 50p, \\xc2\\xa31 (100p) and \\xc2\\xa32 (200p).\\nIt is possible to make \\xc2\\xa32 in the following way:\\n\\n1\\xc3\\x97\\xc2\\xa31 + 1\\xc3\\x9750p + 2\\xc3\\x9720p + 1\\xc3\\x975p + 1\\xc3\\x972p + 3\\xc3\\x971p\\nHow many different ways can \\xc2\\xa32 be made using any number of coins?\\n'"
      ]
     },
     "execution_count": 1,
     "metadata": {},
     "output_type": "execute_result"
    }
   ],
   "source": [
    "\"\"\"\n",
    "In England the currency is made up of pound, £, and pence, p, and \n",
    "there are eight coins in general circulation:\n",
    "\n",
    "1p, 2p, 5p, 10p, 20p, 50p, £1 (100p) and £2 (200p).\n",
    "It is possible to make £2 in the following way:\n",
    "\n",
    "1×£1 + 1×50p + 2×20p + 1×5p + 1×2p + 3×1p\n",
    "How many different ways can £2 be made using any number of coins?\n",
    "\"\"\""
   ]
  },
  {
   "cell_type": "code",
   "execution_count": 45,
   "metadata": {
    "collapsed": false
   },
   "outputs": [],
   "source": [
    "coins = [2,1,0.5,0.2,0.05, 0.02, 0.01]"
   ]
  },
  {
   "cell_type": "code",
   "execution_count": 56,
   "metadata": {
    "collapsed": true
   },
   "outputs": [],
   "source": [
    "# want: a function that, given a list of coin values and a goal, returns the number\n",
    "# of ways of reaching the goal given those coins. It should be call itself \n",
    "# recursively. The base case will be when the list of coin values contains only\n",
    "# a single value.\n",
    "\n",
    "def recurse_coins(target, values):\n",
    "    ways = 0\n",
    "    if len(values) == 1:\n",
    "        return 1\n",
    "    else:\n",
    "        for coin in values:\n",
    "            values.remove(coin)\n",
    "            options = int(target / coin)\n",
    "            print \"options: %s; target: %s; coin: %s\" %(options, target,coin)\n",
    "            for i in range(0,options+1):\n",
    "                remainder = int(target - i*coin)\n",
    "                ways += recurse_coins(remainder, values)\n",
    "    return ways"
   ]
  },
  {
   "cell_type": "code",
   "execution_count": 57,
   "metadata": {
    "collapsed": false
   },
   "outputs": [
    {
     "name": "stdout",
     "output_type": "stream",
     "text": [
      "options: 1; target: 2; coin: 2\n",
      "options: 2; target: 2; coin: 1\n",
      "options: 4; target: 2; coin: 0.5\n",
      "options: 10; target: 2; coin: 0.2\n",
      "options: 20; target: 2; coin: 0.1\n",
      "options: 40; target: 2; coin: 0.05\n",
      "options: 100; target: 2; coin: 0.02\n",
      "178\n"
     ]
    }
   ],
   "source": [
    "print recurse_coins(2,[2,1,0.5,0.2,0.1,0.05,0.02,0.01])"
   ]
  },
  {
   "cell_type": "code",
   "execution_count": null,
   "metadata": {
    "collapsed": true
   },
   "outputs": [],
   "source": []
  }
 ],
 "metadata": {
  "kernelspec": {
   "display_name": "Python 2",
   "language": "python",
   "name": "python2"
  },
  "language_info": {
   "codemirror_mode": {
    "name": "ipython",
    "version": 2
   },
   "file_extension": ".py",
   "mimetype": "text/x-python",
   "name": "python",
   "nbconvert_exporter": "python",
   "pygments_lexer": "ipython2",
   "version": "2.7.11"
  }
 },
 "nbformat": 4,
 "nbformat_minor": 0
}
