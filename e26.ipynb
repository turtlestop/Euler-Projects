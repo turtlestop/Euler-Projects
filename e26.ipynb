{
 "cells": [
  {
   "cell_type": "code",
   "execution_count": 2,
   "metadata": {
    "collapsed": false
   },
   "outputs": [],
   "source": [
    "def rf(n):\n",
    "    # given a decimal number n, 0<n<1, return the longest recurring digit cycle.\n",
    "    pass"
   ]
  },
  {
   "cell_type": "code",
   "execution_count": 4,
   "metadata": {
    "collapsed": false
   },
   "outputs": [
    {
     "name": "stdout",
     "output_type": "stream",
     "text": [
      "0.142857142857\n"
     ]
    }
   ],
   "source": [
    "print 1/7.0"
   ]
  },
  {
   "cell_type": "code",
   "execution_count": 7,
   "metadata": {
    "collapsed": false
   },
   "outputs": [
    {
     "data": {
      "text/plain": [
       "0"
      ]
     },
     "execution_count": 7,
     "metadata": {},
     "output_type": "execute_result"
    }
   ],
   "source": [
    "1/7"
   ]
  },
  {
   "cell_type": "code",
   "execution_count": 8,
   "metadata": {
    "collapsed": false
   },
   "outputs": [
    {
     "data": {
      "text/plain": [
       "1"
      ]
     },
     "execution_count": 8,
     "metadata": {},
     "output_type": "execute_result"
    }
   ],
   "source": [
    "10/7"
   ]
  },
  {
   "cell_type": "code",
   "execution_count": 29,
   "metadata": {
    "collapsed": false
   },
   "outputs": [],
   "source": [
    "def gen_dec(den):\n",
    "    # return the length of recurring digits\n",
    "    rem = 10\n",
    "    seen = [10]\n",
    "    found_recurring = False\n",
    "    tw = 0\n",
    "    while not found_recurring:\n",
    "        dig = rem/den\n",
    "        rem = 10*(rem - (dig*den))\n",
    "        if rem in seen:\n",
    "            found_recurring = True\n",
    "            minus = seen.index(rem)\n",
    "        else:\n",
    "            seen.append(rem)\n",
    "    return len(seen) - minus"
   ]
  },
  {
   "cell_type": "code",
   "execution_count": 32,
   "metadata": {
    "collapsed": false
   },
   "outputs": [
    {
     "name": "stdout",
     "output_type": "stream",
     "text": [
      "1\n"
     ]
    }
   ],
   "source": [
    "print gen_dec(3)"
   ]
  },
  {
   "cell_type": "code",
   "execution_count": 39,
   "metadata": {
    "collapsed": true
   },
   "outputs": [],
   "source": [
    "def solve26():\n",
    "    maxs = [2,1] #d, digits\n",
    "    for d in range(2,1001):\n",
    "        recs = gen_dec(d)\n",
    "        current = [d, recs]\n",
    "        maxs = max(maxs,current, key = lambda x: x[1])\n",
    "    return maxs[0]\n"
   ]
  },
  {
   "cell_type": "code",
   "execution_count": 41,
   "metadata": {
    "collapsed": false
   },
   "outputs": [
    {
     "name": "stdout",
     "output_type": "stream",
     "text": [
      "983\n"
     ]
    }
   ],
   "source": [
    "print solve26()"
   ]
  },
  {
   "cell_type": "code",
   "execution_count": 37,
   "metadata": {
    "collapsed": false
   },
   "outputs": [
    {
     "name": "stdout",
     "output_type": "stream",
     "text": [
      "[3, 8]\n",
      "[4, 7]\n",
      "[3, 8]\n"
     ]
    }
   ],
   "source": [
    "def second(lst):\n",
    "    return lst[1]\n",
    "\n",
    "def first(lst):\n",
    "    return lst[0]\n",
    "\n",
    "\n",
    "l1 = [4,7]\n",
    "l2 = [3,8]\n",
    "print max(l1,l2,key = second)\n",
    "print max(l1,l2,key = first)\n",
    "print max(l1,l2,key = lambda x: x[1])"
   ]
  },
  {
   "cell_type": "code",
   "execution_count": null,
   "metadata": {
    "collapsed": true
   },
   "outputs": [],
   "source": []
  }
 ],
 "metadata": {
  "kernelspec": {
   "display_name": "Python 2",
   "language": "python",
   "name": "python2"
  },
  "language_info": {
   "codemirror_mode": {
    "name": "ipython",
    "version": 2
   },
   "file_extension": ".py",
   "mimetype": "text/x-python",
   "name": "python",
   "nbconvert_exporter": "python",
   "pygments_lexer": "ipython2",
   "version": "2.7.11"
  }
 },
 "nbformat": 4,
 "nbformat_minor": 0
}
