{
 "cells": [
  {
   "cell_type": "code",
   "execution_count": 37,
   "metadata": {
    "collapsed": false
   },
   "outputs": [],
   "source": [
    "import math\n",
    "\n",
    "def sum_divisors(n):\n",
    "    factors = []\n",
    "    for i in xrange(1, int(math.ceil(math.sqrt(n)))+1):\n",
    "        if n % i == 0:\n",
    "            factors.append(i)\n",
    "            if i>1:\n",
    "                factors.append(n/i)\n",
    "    return sum(factors)\n",
    "\n",
    "\n",
    "def search(n):\n",
    "    amicables = []\n",
    "    for i in range(1,n):\n",
    "        m = sum_divisors(i)\n",
    "        if sum_divisors(m) == i and not i == m:\n",
    "            if i<10000 and i not in amicables:\n",
    "                amicables.append(i)\n",
    "            if m<10000 and i not in amicables:\n",
    "                amicables.append(m)\n",
    "    return sum(amicables)\n",
    "    "
   ]
  },
  {
   "cell_type": "code",
   "execution_count": 38,
   "metadata": {
    "collapsed": false
   },
   "outputs": [
    {
     "name": "stdout",
     "output_type": "stream",
     "text": [
      "31626\n"
     ]
    }
   ],
   "source": [
    "print search(10000)"
   ]
  },
  {
   "cell_type": "code",
   "execution_count": null,
   "metadata": {
    "collapsed": true
   },
   "outputs": [],
   "source": []
  }
 ],
 "metadata": {
  "kernelspec": {
   "display_name": "Python 2",
   "language": "python",
   "name": "python2"
  },
  "language_info": {
   "codemirror_mode": {
    "name": "ipython",
    "version": 2
   },
   "file_extension": ".py",
   "mimetype": "text/x-python",
   "name": "python",
   "nbconvert_exporter": "python",
   "pygments_lexer": "ipython2",
   "version": "2.7.11"
  }
 },
 "nbformat": 4,
 "nbformat_minor": 0
}
