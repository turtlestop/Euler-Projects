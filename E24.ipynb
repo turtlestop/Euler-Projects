{
 "cells": [
  {
   "cell_type": "markdown",
   "metadata": {},
   "source": [
    "A permutation is an ordered arrangement of objects. For example, 3124 is one possible permutation of the digits 1, 2, 3 and 4. If all of the permutations are listed numerically or alphabetically, we call it lexicographic order. The lexicographic permutations of 0, 1 and 2 are:\n",
    "\n",
    "012   021   102   120   201   210\n",
    "\n",
    "What is the millionth lexicographic permutation of the digits 0, 1, 2, 3, 4, 5, 6, 7, 8 and 9?\n",
    "\n",
    "so: there are 3.6 million possible permutations. Order them lexigraphically. Return millionth one.\n",
    "\n"
   ]
  },
  {
   "cell_type": "code",
   "execution_count": 68,
   "metadata": {
    "collapsed": false
   },
   "outputs": [
    {
     "data": {
      "text/plain": [
       "'\\ncheck if last two n1,n2 are s.t. n1<n2. if so, next one is n1/n2. If not, go to previous number. \\ncheck if there is a bigger number further to the right. if so, put the smallest bigger number in that place.\\n\\n'"
      ]
     },
     "execution_count": 68,
     "metadata": {},
     "output_type": "execute_result"
    }
   ],
   "source": [
    "one =   [0,1,2,3,4,5,6,7,8,9] # \n",
    "two =   [0,1,2,3,4,5,6,7,9,8] # 2 with 7 in pos9\n",
    "three = [0,1,2,3,4,5,6,8,7,9] # 2 with 8 in pos9\n",
    "four =  [0,1,2,3,4,5,6,8,9,7] \n",
    "five = [0,1,2,3,4,5,6,9,7,8]\n",
    "six  = [0,1,2,3,4,5,6,9,8,7]\n",
    "\n",
    "\"\"\"\n",
    "check if last two n1,n2 are s.t. n1<n2. if so, next one is n1/n2. If not, go to previous number. \n",
    "check if there is a bigger number further to the right. if so, put the smallest bigger number in that place.\n",
    "\n",
    "\"\"\"\n",
    "\n"
   ]
  },
  {
   "cell_type": "code",
   "execution_count": 5,
   "metadata": {
    "collapsed": false
   },
   "outputs": [
    {
     "name": "stdout",
     "output_type": "stream",
     "text": [
      "3628800\n"
     ]
    }
   ],
   "source": [
    "import math\n",
    "print math.factorial(10)"
   ]
  },
  {
   "cell_type": "code",
   "execution_count": 69,
   "metadata": {
    "collapsed": true
   },
   "outputs": [],
   "source": [
    "def permutize(inlist):\n",
    "#     take a list in the lexographically last position, and systematically go through other permutations (lex ordered)\n",
    "#   keep track of # of permutations; stop when n is reached\n",
    "    index=1\n",
    "    switcher = True\n",
    "    while switcher:\n",
    "        cut = -(index+1)\n",
    "        stock = inlist[cut:]\n",
    "        current = stock[0]\n",
    "        newlist = inlist[:cut]\n",
    "        sortedstock = sorted(stock)\n",
    "        for el in sortedstock:\n",
    "            if not el == current and el>current:\n",
    "                # take the first el of the sorted list, replace it with \n",
    "                newlist.append(el)\n",
    "                sortedstock.remove(el)\n",
    "                newlist += sortedstock\n",
    "                return newlist\n",
    "        else:\n",
    "            index += 1\n"
   ]
  },
  {
   "cell_type": "code",
   "execution_count": 74,
   "metadata": {
    "collapsed": false
   },
   "outputs": [
    {
     "name": "stdout",
     "output_type": "stream",
     "text": [
      "True\n",
      "True\n",
      "True\n",
      "True\n"
     ]
    }
   ],
   "source": [
    "print two == permutize(one)\n",
    "print three == permutize(two)\n",
    "print four == permutize(three)\n",
    "print five == permutize(four)"
   ]
  },
  {
   "cell_type": "code",
   "execution_count": 31,
   "metadata": {
    "collapsed": false
   },
   "outputs": [
    {
     "name": "stdout",
     "output_type": "stream",
     "text": [
      "[5, 2, 3, 4, 1]\n",
      "[1, 2, 3, 4, 5]\n"
     ]
    }
   ],
   "source": [
    "practice = [5,2,3,4,1]\n",
    "newlis = sorted(practice)\n",
    "\n",
    "print practice\n",
    "print newlis"
   ]
  },
  {
   "cell_type": "code",
   "execution_count": 82,
   "metadata": {
    "collapsed": true
   },
   "outputs": [],
   "source": [
    "def bruter(n, inputlist):\n",
    "    #take a list, and go through lex orderings until n is reached\n",
    "    iterations = 1\n",
    "    lst = inputlist\n",
    "    while iterations<n:\n",
    "        lst = permutize(lst)\n",
    "        iterations += 1\n",
    "    return lst"
   ]
  },
  {
   "cell_type": "code",
   "execution_count": 83,
   "metadata": {
    "collapsed": false
   },
   "outputs": [
    {
     "name": "stdout",
     "output_type": "stream",
     "text": [
      "[0, 1, 2]\n"
     ]
    }
   ],
   "source": [
    "testcase = [0,1,2]\n",
    "print bruter(1, testcase)"
   ]
  },
  {
   "cell_type": "code",
   "execution_count": 86,
   "metadata": {
    "collapsed": false
   },
   "outputs": [
    {
     "name": "stdout",
     "output_type": "stream",
     "text": [
      "[1, 0, 2]\n"
     ]
    }
   ],
   "source": [
    "print bruter(3,testcase)"
   ]
  },
  {
   "cell_type": "code",
   "execution_count": 87,
   "metadata": {
    "collapsed": false
   },
   "outputs": [
    {
     "name": "stdout",
     "output_type": "stream",
     "text": [
      "[2, 7, 8, 3, 9, 1, 5, 4, 6, 0]\n"
     ]
    }
   ],
   "source": [
    "print bruter(1000000,one)"
   ]
  },
  {
   "cell_type": "code",
   "execution_count": null,
   "metadata": {
    "collapsed": true
   },
   "outputs": [],
   "source": []
  }
 ],
 "metadata": {
  "kernelspec": {
   "display_name": "Python 2",
   "language": "python",
   "name": "python2"
  },
  "language_info": {
   "codemirror_mode": {
    "name": "ipython",
    "version": 2
   },
   "file_extension": ".py",
   "mimetype": "text/x-python",
   "name": "python",
   "nbconvert_exporter": "python",
   "pygments_lexer": "ipython2",
   "version": "2.7.11"
  }
 },
 "nbformat": 4,
 "nbformat_minor": 0
}
