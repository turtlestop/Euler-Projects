{
 "cells": [
  {
   "cell_type": "code",
   "execution_count": 1,
   "metadata": {
    "collapsed": true
   },
   "outputs": [],
   "source": [
    "# Euler 18\n"
   ]
  },
  {
   "cell_type": "code",
   "execution_count": 59,
   "metadata": {
    "collapsed": true
   },
   "outputs": [],
   "source": [
    "t = \"\"\"75\n",
    "95 64\n",
    "17 47 82\n",
    "18 35 87 10\n",
    "20 04 82 47 65\n",
    "19 01 23 75 03 34\n",
    "88 02 77 73 07 63 67\n",
    "99 65 04 28 06 16 70 92\n",
    "41 41 26 56 83 40 80 70 33\n",
    "41 48 72 33 47 32 37 16 94 29\n",
    "53 71 44 65 25 43 91 52 97 51 14\n",
    "70 11 33 28 77 73 17 78 39 68 17 57\n",
    "91 71 52 38 17 14 91 43 58 50 27 29 48\n",
    "63 66 04 68 89 53 67 30 73 16 69 87 40 31\n",
    "04 62 98 27 23 09 70 98 73 93 38 53 60 04 23\"\"\""
   ]
  },
  {
   "cell_type": "code",
   "execution_count": 60,
   "metadata": {
    "collapsed": true
   },
   "outputs": [],
   "source": [
    "t = t.split('\\n')\n",
    "numbers = []\n",
    "for row in t:\n",
    "    row = row.split(' ')\n",
    "    newrow = []\n",
    "    for num in row:\n",
    "        newrow.append(int(num))\n",
    "    numbers.append(newrow) "
   ]
  },
  {
   "cell_type": "code",
   "execution_count": 61,
   "metadata": {
    "collapsed": false
   },
   "outputs": [
    {
     "name": "stdout",
     "output_type": "stream",
     "text": [
      "[[75], [95, 64], [17, 47, 82], [18, 35, 87, 10], [20, 4, 82, 47, 65], [19, 1, 23, 75, 3, 34], [88, 2, 77, 73, 7, 63, 67], [99, 65, 4, 28, 6, 16, 70, 92], [41, 41, 26, 56, 83, 40, 80, 70, 33], [41, 48, 72, 33, 47, 32, 37, 16, 94, 29], [53, 71, 44, 65, 25, 43, 91, 52, 97, 51, 14], [70, 11, 33, 28, 77, 73, 17, 78, 39, 68, 17, 57], [91, 71, 52, 38, 17, 14, 91, 43, 58, 50, 27, 29, 48], [63, 66, 4, 68, 89, 53, 67, 30, 73, 16, 69, 87, 40, 31], [4, 62, 98, 27, 23, 9, 70, 98, 73, 93, 38, 53, 60, 4, 23]]\n"
     ]
    }
   ],
   "source": [
    "print numbers"
   ]
  },
  {
   "cell_type": "code",
   "execution_count": 65,
   "metadata": {
    "collapsed": false
   },
   "outputs": [],
   "source": [
    "newnumbers = numbers\n",
    "\n",
    "def visibles((x,y)):\n",
    "    return [(x+1,y),(x+1,y+1)]\n",
    "\n",
    "def invisibles((x,y)):\n",
    "    vis = []\n",
    "    if x == 0 and  y == 0:\n",
    "        return []\n",
    "    if (y-1)>=0:\n",
    "        vis.append((x-1,y-1)) \n",
    "    if y<=x-1:\n",
    "        vis.append((x-1,y))\n",
    "    return vis\n",
    "\n",
    "def number((x,y)):\n",
    "    return newnumbers[x][y]\n",
    "\n",
    "def maximum_parent((x,y)):\n",
    "    parents = invisibles((x,y))\n",
    "    if x==0 and y==0:\n",
    "        return 0\n",
    "    parents = [number(x) for x in parents]\n",
    "    return max(parents)\n",
    "\n",
    "def dynamic():\n",
    "    for i,row in enumerate(newnumbers):\n",
    "        for j,numb in enumerate(row):\n",
    "            newnumbers[i][j] = newnumbers[i][j] + maximum_parent((i,j)) \n",
    "    print newnumbers"
   ]
  },
  {
   "cell_type": "code",
   "execution_count": 66,
   "metadata": {
    "collapsed": false
   },
   "outputs": [
    {
     "name": "stdout",
     "output_type": "stream",
     "text": [
      "[]\n",
      "75\n",
      "0\n"
     ]
    }
   ],
   "source": [
    "print invisibles((0,0))\n",
    "print number((0,0))\n",
    "print maximum_parent((0,0))"
   ]
  },
  {
   "cell_type": "code",
   "execution_count": 67,
   "metadata": {
    "collapsed": false
   },
   "outputs": [
    {
     "name": "stdout",
     "output_type": "stream",
     "text": [
      "[[75], [170, 139], [187, 217, 221], [205, 252, 308, 231], [225, 256, 390, 355, 296], [244, 257, 413, 465, 358, 330], [332, 259, 490, 538, 472, 421, 397], [431, 397, 494, 566, 544, 488, 491, 489], [472, 472, 520, 622, 649, 584, 571, 561, 522], [513, 520, 592, 655, 696, 681, 621, 587, 655, 551], [566, 591, 636, 720, 721, 739, 772, 673, 752, 706, 565], [636, 602, 669, 748, 798, 812, 789, 850, 791, 820, 723, 622], [727, 707, 721, 786, 815, 826, 903, 893, 908, 870, 847, 752, 670], [790, 793, 725, 854, 904, 879, 970, 933, 981, 924, 939, 934, 792, 701], [794, 855, 891, 881, 927, 913, 1040, 1068, 1054, 1074, 977, 992, 994, 796, 724]]\n"
     ]
    }
   ],
   "source": [
    "dynamic()"
   ]
  },
  {
   "cell_type": "code",
   "execution_count": 68,
   "metadata": {
    "collapsed": false
   },
   "outputs": [
    {
     "name": "stdout",
     "output_type": "stream",
     "text": [
      "1074\n"
     ]
    }
   ],
   "source": [
    "print max(newnumbers[-1])"
   ]
  },
  {
   "cell_type": "code",
   "execution_count": null,
   "metadata": {
    "collapsed": true
   },
   "outputs": [],
   "source": []
  }
 ],
 "metadata": {
  "kernelspec": {
   "display_name": "Python 2",
   "language": "python",
   "name": "python2"
  },
  "language_info": {
   "codemirror_mode": {
    "name": "ipython",
    "version": 2
   },
   "file_extension": ".py",
   "mimetype": "text/x-python",
   "name": "python",
   "nbconvert_exporter": "python",
   "pygments_lexer": "ipython2",
   "version": "2.7.11"
  }
 },
 "nbformat": 4,
 "nbformat_minor": 0
}
