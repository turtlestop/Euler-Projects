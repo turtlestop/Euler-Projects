{
 "cells": [
  {
   "cell_type": "code",
   "execution_count": 5,
   "metadata": {
    "collapsed": true
   },
   "outputs": [],
   "source": [
    "def is_prime(number):\n",
    "    if number > 1:\n",
    "        if number == 2:\n",
    "            return True\n",
    "        if number % 2 == 0:\n",
    "            return False\n",
    "        for current in range(3, int(math.sqrt(number) + 1), 2):\n",
    "            if number % current == 0: \n",
    "                return False\n",
    "        return True\n",
    "    return False\n",
    "\n",
    "def next_prime(n):\n",
    "    while True:\n",
    "        if is_prime(n):\n",
    "            yield n\n",
    "        n +=1"
   ]
  },
  {
   "cell_type": "code",
   "execution_count": 2,
   "metadata": {
    "collapsed": true
   },
   "outputs": [],
   "source": [
    "import math"
   ]
  },
  {
   "cell_type": "code",
   "execution_count": 4,
   "metadata": {
    "collapsed": false
   },
   "outputs": [
    {
     "name": "stdout",
     "output_type": "stream",
     "text": [
      "False\n"
     ]
    }
   ],
   "source": [
    "print is_prime(15)"
   ]
  },
  {
   "cell_type": "code",
   "execution_count": 6,
   "metadata": {
    "collapsed": false,
    "scrolled": true
   },
   "outputs": [
    {
     "data": {
      "text/plain": [
       "'\\nA primal quadratic equation has coefficients a, b such that\\n\\nwhere for a range of n,,\\n\\nn**2 + a*n + b == p\\n\\nand p is prime.\\n\\nsince it must be true for n==0, it follows that b must be prime.\\n\\nSo we can start by looking at the positive primes between 0 and 1000 for b.\\n\\nfor each of those, consider all values -1000 to 1000 for a, and see how high n gets before we \\nreach a non-prime.\\n\\nsince it must work for n==1, we also know that a+b is prime. since b is prime, \\n\\n'"
      ]
     },
     "execution_count": 6,
     "metadata": {},
     "output_type": "execute_result"
    }
   ],
   "source": [
    "\"\"\"\n",
    "A primal quadratic equation has coefficients a, b such that\n",
    "\n",
    "where for a range of n,,\n",
    "\n",
    "n**2 + a*n + b == p\n",
    "\n",
    "and p is prime.\n",
    "\n",
    "since it must be true for n==0, it follows that b must be prime.\n",
    "\n",
    "So we can start by looking at the positive primes between 0 and 1000 for b.\n",
    "\n",
    "for each of those, consider all values -1000 to 1000 for a, and see how high n gets before we \n",
    "reach a non-prime.\n",
    "\n",
    "since it must work for n==1, we also know that a+b is prime. since b is prime, \n",
    "\n",
    "\"\"\""
   ]
  },
  {
   "cell_type": "code",
   "execution_count": 16,
   "metadata": {
    "collapsed": false
   },
   "outputs": [],
   "source": [
    "def count_primes(a,b):\n",
    "    # return number of consecutive primes for n**2 + a*n + b\n",
    "    primal = True\n",
    "    n = 0\n",
    "    while primal:\n",
    "        p = n**2 + a*n + b\n",
    "        if not is_prime(p):\n",
    "            primal = False\n",
    "            return n\n",
    "        n += 1"
   ]
  },
  {
   "cell_type": "code",
   "execution_count": 17,
   "metadata": {
    "collapsed": false
   },
   "outputs": [
    {
     "name": "stdout",
     "output_type": "stream",
     "text": [
      "40\n"
     ]
    }
   ],
   "source": [
    "print count_primes(1,41)"
   ]
  },
  {
   "cell_type": "code",
   "execution_count": 19,
   "metadata": {
    "collapsed": false
   },
   "outputs": [
    {
     "name": "stdout",
     "output_type": "stream",
     "text": [
      "80\n"
     ]
    }
   ],
   "source": [
    "print count_primes(-79,1601)"
   ]
  },
  {
   "cell_type": "code",
   "execution_count": 23,
   "metadata": {
    "collapsed": false
   },
   "outputs": [
    {
     "name": "stdout",
     "output_type": "stream",
     "text": [
      "[2, 3, 5, 7, 11, 13, 17, 19, 23, 29]\n"
     ]
    }
   ],
   "source": [
    "possible_bs = [i for i in range(0,1001) if is_prime(i)]\n",
    "print possible_bs[:10]"
   ]
  },
  {
   "cell_type": "code",
   "execution_count": 25,
   "metadata": {
    "collapsed": false
   },
   "outputs": [],
   "source": [
    "def search_quads():\n",
    "    maxsofar = [0,0,0]\n",
    "    for b in possible_bs:\n",
    "        for a in range(1001):\n",
    "            checkpos = [a,b,count_primes(a, b)]\n",
    "            checkneg = [-a,b,count_primes(-a, b)]\n",
    "            maxsofar = max(maxsofar,checkpos, checkneg,key = lambda x: x[-1])\n",
    "    return maxsofar\n",
    "            "
   ]
  },
  {
   "cell_type": "code",
   "execution_count": 26,
   "metadata": {
    "collapsed": false
   },
   "outputs": [
    {
     "name": "stdout",
     "output_type": "stream",
     "text": [
      "[-61, 971, 71]\n"
     ]
    }
   ],
   "source": [
    "print search_quads()"
   ]
  },
  {
   "cell_type": "code",
   "execution_count": 27,
   "metadata": {
    "collapsed": false
   },
   "outputs": [
    {
     "name": "stdout",
     "output_type": "stream",
     "text": [
      "-59231\n"
     ]
    }
   ],
   "source": [
    "print -61*971"
   ]
  },
  {
   "cell_type": "code",
   "execution_count": null,
   "metadata": {
    "collapsed": true
   },
   "outputs": [],
   "source": []
  }
 ],
 "metadata": {
  "kernelspec": {
   "display_name": "Python 2",
   "language": "python",
   "name": "python2"
  },
  "language_info": {
   "codemirror_mode": {
    "name": "ipython",
    "version": 2
   },
   "file_extension": ".py",
   "mimetype": "text/x-python",
   "name": "python",
   "nbconvert_exporter": "python",
   "pygments_lexer": "ipython2",
   "version": "2.7.11"
  }
 },
 "nbformat": 4,
 "nbformat_minor": 0
}
