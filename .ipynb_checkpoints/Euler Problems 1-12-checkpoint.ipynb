{
 "cells": [
  {
   "cell_type": "code",
   "execution_count": null,
   "metadata": {
    "collapsed": true
   },
   "outputs": [],
   "source": [
    "### Euler Problem 1\n",
    "# If we list all the natural numbers below 10 that are multiples of 3 or 5, we get 3, 5, 6 \n",
    "# and 9. \n",
    "# The sum of these multiples is 23.\n",
    "# Find the sum of all the multiples of 3 or 5 below 1000."
   ]
  },
  {
   "cell_type": "code",
   "execution_count": 11,
   "metadata": {
    "collapsed": true
   },
   "outputs": [],
   "source": [
    "def multiple_sum(limit):\n",
    "    return sum([x for x in range(limit) if (x%5==0 or x%3==0)])"
   ]
  },
  {
   "cell_type": "code",
   "execution_count": 12,
   "metadata": {},
   "outputs": [
    {
     "name": "stdout",
     "output_type": "stream",
     "text": [
      "233168\n"
     ]
    }
   ],
   "source": [
    "print multiple_sum(1000)"
   ]
  },
  {
   "cell_type": "code",
   "execution_count": 3,
   "metadata": {},
   "outputs": [
    {
     "name": "stdout",
     "output_type": "stream",
     "text": [
      "4613732\n"
     ]
    }
   ],
   "source": [
    "### Problem 2: find the sum of even fibonacci numbers no greater than 4,000,000.\n",
    "\n",
    "def sum_fibonacci(limit):\n",
    "    fib1, fib2 = 1,1\n",
    "    total = 0\n",
    "    while fib2 <= limit:\n",
    "        if fib2 % 2 == 0:\n",
    "            total += fib2\n",
    "        oldfib2 = fib2\n",
    "        fib2 += fib1 \n",
    "        fib1 = oldfib2\n",
    "    return total\n",
    "    \n",
    "print sum_fibonacci(4000000)    "
   ]
  },
  {
   "cell_type": "code",
   "execution_count": 4,
   "metadata": {
    "collapsed": true
   },
   "outputs": [],
   "source": [
    "### Problem 3: \n",
    "# The prime factors of 13195 are 5, 7, 13 and 29.\n",
    "# What is the largest prime factor of the number 600851475143 ?"
   ]
  },
  {
   "cell_type": "code",
   "execution_count": 31,
   "metadata": {
    "collapsed": true
   },
   "outputs": [],
   "source": [
    "import math"
   ]
  },
  {
   "cell_type": "code",
   "execution_count": 28,
   "metadata": {
    "collapsed": true
   },
   "outputs": [],
   "source": [
    "def is_prime(number):\n",
    "    # checks to see if number is prime\n",
    "    if number > 1:\n",
    "        if number == 2:\n",
    "            return True\n",
    "        if number % 2 == 0:\n",
    "            return False\n",
    "        for current in range(3, int(math.sqrt(number) + 1), 2):\n",
    "            if number % current == 0: \n",
    "                return False\n",
    "        return True\n",
    "    return False\n",
    "\n",
    "def next_prime(n):\n",
    "    # generates sequential primes\n",
    "    while True:\n",
    "        if is_prime(n):\n",
    "            yield n\n",
    "        n +=1"
   ]
  },
  {
   "cell_type": "code",
   "execution_count": 29,
   "metadata": {
    "collapsed": true
   },
   "outputs": [],
   "source": [
    "# ALGORITHM: given a number n, take the smallest prime p (2), keep trying to divide n by p.\n",
    "# repeat with the next highest prime until the result is itself prime.\n",
    "\n",
    "def prime_factorize(n):\n",
    "    s = next_prime(2)\n",
    "    current = n\n",
    "    prime_factors = []\n",
    "    while not is_prime(current):\n",
    "        divisor = next(s)\n",
    "        while current % divisor == 0:\n",
    "            prime_factors.append(divisor)\n",
    "            current = current/divisor\n",
    "    prime_factors.append(current)\n",
    "    return prime_factors"
   ]
  },
  {
   "cell_type": "code",
   "execution_count": 11,
   "metadata": {},
   "outputs": [
    {
     "name": "stdout",
     "output_type": "stream",
     "text": [
      "6857\n"
     ]
    }
   ],
   "source": [
    "print max(prime_factorize(600851475143))"
   ]
  },
  {
   "cell_type": "code",
   "execution_count": null,
   "metadata": {
    "collapsed": true
   },
   "outputs": [],
   "source": [
    "## Problem 4\n",
    "\n",
    "# A palindromic number reads the same both ways. The largest palindrome made from the product\n",
    "# of two 2-digit numbers is 9009 = 91 × 99.\n",
    "\n",
    "# Find the largest palindrome made from the product of two 3-digit numbers."
   ]
  },
  {
   "cell_type": "code",
   "execution_count": 13,
   "metadata": {
    "collapsed": true
   },
   "outputs": [],
   "source": [
    "def is_palindrome(n):\n",
    "    return str(n) == str(n)[::-1]"
   ]
  },
  {
   "cell_type": "code",
   "execution_count": 19,
   "metadata": {
    "collapsed": true
   },
   "outputs": [],
   "source": [
    "def largest_palindrome_product(digits):\n",
    "    limit = 10**digits\n",
    "    palindrome_products = [x * y for x in range(limit) for y in range(limit) if is_palindrome(x*y)]\n",
    "    return max(palindrome_products)"
   ]
  },
  {
   "cell_type": "code",
   "execution_count": 21,
   "metadata": {},
   "outputs": [
    {
     "name": "stdout",
     "output_type": "stream",
     "text": [
      "9009\n",
      "906609\n"
     ]
    }
   ],
   "source": [
    "print largest_palindrome_product(2)\n",
    "print largest_palindrome_product(3)"
   ]
  },
  {
   "cell_type": "code",
   "execution_count": 22,
   "metadata": {
    "collapsed": true
   },
   "outputs": [],
   "source": [
    "## Problem 5\n",
    "\n",
    "# 2520 is the smallest number that can be divided by each of the numbers \n",
    "# from 1 to 10 without any remainder.\n",
    "\n",
    "# What is the smallest positive number that is evenly divisible \n",
    "# by all of the numbers from 1 to 20?"
   ]
  },
  {
   "cell_type": "code",
   "execution_count": 20,
   "metadata": {},
   "outputs": [
    {
     "name": "stdout",
     "output_type": "stream",
     "text": [
      "1\n",
      "2\n",
      "3\n",
      "4\n",
      "5\n",
      "6\n",
      "7\n",
      "8\n",
      "9\n",
      "10\n",
      "3628800\n"
     ]
    }
   ],
   "source": [
    "prod = 1\n",
    "for i in range(1,11):\n",
    "    print i\n",
    "    prod = prod * i\n",
    "print prod"
   ]
  },
  {
   "cell_type": "code",
   "execution_count": 2,
   "metadata": {
    "collapsed": true
   },
   "outputs": [],
   "source": [
    "def super_divisible(x):\n",
    "    for i in range(2,21):\n",
    "        if not x%i == 0:\n",
    "            return False\n",
    "    return True"
   ]
  },
  {
   "cell_type": "code",
   "execution_count": 5,
   "metadata": {
    "collapsed": true
   },
   "outputs": [],
   "source": [
    "import time"
   ]
  },
  {
   "cell_type": "code",
   "execution_count": 23,
   "metadata": {
    "collapsed": true
   },
   "outputs": [],
   "source": [
    "def smallest_superdivisible():\n",
    "    start = time.time()\n",
    "    found = False\n",
    "    n = 2520\n",
    "    while not found:\n",
    "        n += 2520\n",
    "        found = super_divisible(n)\n",
    "    end = time.time()\n",
    "    print 'Phew! That took %s seconds.' %(end-start)\n",
    "    return n"
   ]
  },
  {
   "cell_type": "code",
   "execution_count": 24,
   "metadata": {
    "scrolled": true
   },
   "outputs": [
    {
     "name": "stdout",
     "output_type": "stream",
     "text": [
      "Phew! That took 0.199557065964 seconds.\n",
      "232792560\n"
     ]
    }
   ],
   "source": [
    "print smallest_superdivisible()"
   ]
  },
  {
   "cell_type": "code",
   "execution_count": null,
   "metadata": {
    "collapsed": true
   },
   "outputs": [],
   "source": [
    "### Problem 6\n",
    "# The sum of the squares of the first ten natural numbers is,\n",
    "\n",
    "# 1**2 + 2**2 + ... + 10**2 = 385\n",
    "# The square of the sum of the first ten natural numbers is,\n",
    "\n",
    "# (1 + 2 + ... + 10)2 = 55**2 = 3025\n",
    "# Hence the difference between the sum of the squares of the first ten natural numbers and \n",
    "# the square of the sum is 3025 − 385 = 2640.\n",
    "\n",
    "# Find the difference between the sum of the squares of the first one hundred natural \n",
    "# numbers and the square of the sum."
   ]
  },
  {
   "cell_type": "code",
   "execution_count": 25,
   "metadata": {},
   "outputs": [
    {
     "name": "stdout",
     "output_type": "stream",
     "text": [
      "took 3.19480895996e-05 seconds\n",
      "25164150\n"
     ]
    }
   ],
   "source": [
    "def brute_sum_squares():\n",
    "    start = time.time()\n",
    "    sum_squares = 0\n",
    "    sum_tosquare = 0\n",
    "    for i in range(101):\n",
    "        sum_squares += i*i\n",
    "        sum_tosquare += i\n",
    "    sum_tosquare = sum_tosquare*sum_tosquare\n",
    "    end = time.time()\n",
    "    print 'took %s seconds' %(end - start)\n",
    "    return sum_tosquare - sum_squares\n",
    "\n",
    "print brute()        \n",
    "        "
   ]
  },
  {
   "cell_type": "code",
   "execution_count": 3,
   "metadata": {
    "collapsed": true
   },
   "outputs": [],
   "source": [
    "### Problem 7: 10001st prime\n",
    "\n",
    "# By listing the first six prime numbers: 2, 3, 5, 7, 11, and 13, we can see that the \n",
    "#     6th prime is 13.\n",
    "\n",
    "# What is the 10 001st prime number?"
   ]
  },
  {
   "cell_type": "code",
   "execution_count": 33,
   "metadata": {
    "collapsed": true
   },
   "outputs": [],
   "source": [
    "def find_nth_prime(nth):\n",
    "    n = 1\n",
    "    s = next_prime(1)\n",
    "    prime = next(s)\n",
    "    while n < nth:\n",
    "        n+=1\n",
    "        prime = next(s)\n",
    "    return prime"
   ]
  },
  {
   "cell_type": "code",
   "execution_count": 34,
   "metadata": {},
   "outputs": [
    {
     "name": "stdout",
     "output_type": "stream",
     "text": [
      "104743\n"
     ]
    }
   ],
   "source": [
    "print find_nth_prime(10001)"
   ]
  },
  {
   "cell_type": "code",
   "execution_count": null,
   "metadata": {
    "collapsed": true
   },
   "outputs": [],
   "source": [
    "### Problem 8: Largest Product in a Series \n",
    "\n",
    "# The four adjacent digits in the 1000-digit number that have the greatest product are \n",
    "# 9 × 9 × 8 × 9 = 5832.\n",
    "\n",
    "# Find the thirteen adjacent digits in the 1000-digit number that have the greatest product. \n",
    "# What is the value of this product?"
   ]
  },
  {
   "cell_type": "code",
   "execution_count": 38,
   "metadata": {
    "collapsed": true
   },
   "outputs": [],
   "source": [
    "s = \"\"\"73167176531330624919225119674426574742355349194934\n",
    "96983520312774506326239578318016984801869478851843\n",
    "85861560789112949495459501737958331952853208805511\n",
    "12540698747158523863050715693290963295227443043557\n",
    "66896648950445244523161731856403098711121722383113\n",
    "62229893423380308135336276614282806444486645238749\n",
    "30358907296290491560440772390713810515859307960866\n",
    "70172427121883998797908792274921901699720888093776\n",
    "65727333001053367881220235421809751254540594752243\n",
    "52584907711670556013604839586446706324415722155397\n",
    "53697817977846174064955149290862569321978468622482\n",
    "83972241375657056057490261407972968652414535100474\n",
    "82166370484403199890008895243450658541227588666881\n",
    "16427171479924442928230863465674813919123162824586\n",
    "17866458359124566529476545682848912883142607690042\n",
    "24219022671055626321111109370544217506941658960408\n",
    "07198403850962455444362981230987879927244284909188\n",
    "84580156166097919133875499200524063689912560717606\n",
    "05886116467109405077541002256983155200055935729725\n",
    "71636269561882670428252483600823257530420752963450\"\"\"\n",
    "\n",
    "long_number = s.replace('\\n', '')"
   ]
  },
  {
   "cell_type": "code",
   "execution_count": 39,
   "metadata": {
    "collapsed": true
   },
   "outputs": [],
   "source": [
    "def product_of_list(lst):\n",
    "    # returns the product of a list of numbers\n",
    "    product = 1\n",
    "    for i in lst:\n",
    "        product *= i\n",
    "    return product\n",
    "\n",
    "def largest_product(num, length):\n",
    "    # returns length-long series of digits with largest product\n",
    "    oldproduct = 1\n",
    "    for i in range(len(num) - length + 1):  # 1001 - 13\n",
    "        adjacents = num[i:i+length]\n",
    "        numbers = [int(i) for i in adjacents]\n",
    "        product = product_of_list(numbers)\n",
    "        if product > oldproduct:\n",
    "            oldproduct = product\n",
    "    return oldproduct"
   ]
  },
  {
   "cell_type": "code",
   "execution_count": 40,
   "metadata": {},
   "outputs": [
    {
     "name": "stdout",
     "output_type": "stream",
     "text": [
      "23514624000\n"
     ]
    }
   ],
   "source": [
    "print largest_product(long_number, 13)"
   ]
  },
  {
   "cell_type": "code",
   "execution_count": 54,
   "metadata": {
    "collapsed": true
   },
   "outputs": [],
   "source": [
    "### problem 9\n",
    "\n",
    "# A Pythagorean triplet is a set of three natural numbers, a < b < c, for which\n",
    "# a2 + b2 = c2\n",
    "# For example, 3^2 + 4^2 = 9 + 16 = 25 = 5^2.\n",
    "\n",
    "# There exists exactly one Pythagorean triplet for which a + b + c = 1000.\n",
    "# Find the product abc."
   ]
  },
  {
   "cell_type": "code",
   "execution_count": 41,
   "metadata": {
    "collapsed": true
   },
   "outputs": [],
   "source": [
    "def find_pythagorean_triplet(target):\n",
    "    for x in range(3,target+1):\n",
    "        for y in range(1, x):\n",
    "            z = 1000 - (x+y)\n",
    "            if x**2 == (y**2 + z**2):\n",
    "                return [x, y, z]\n",
    "    return []"
   ]
  },
  {
   "cell_type": "code",
   "execution_count": 43,
   "metadata": {},
   "outputs": [
    {
     "name": "stdout",
     "output_type": "stream",
     "text": [
      "[425, 200, 375]\n"
     ]
    }
   ],
   "source": [
    "print find_pythagorean_triplet(1000)"
   ]
  },
  {
   "cell_type": "code",
   "execution_count": 44,
   "metadata": {},
   "outputs": [
    {
     "name": "stdout",
     "output_type": "stream",
     "text": [
      "31875000\n"
     ]
    }
   ],
   "source": [
    "print product_of_list([425, 200, 375])"
   ]
  },
  {
   "cell_type": "code",
   "execution_count": null,
   "metadata": {
    "collapsed": true
   },
   "outputs": [],
   "source": [
    "### Problem 10\n",
    "\n",
    "# The sum of the primes below 10 is 2 + 3 + 5 + 7 = 17.\n",
    "\n",
    "# Find the sum of all the primes below two million."
   ]
  },
  {
   "cell_type": "code",
   "execution_count": 49,
   "metadata": {
    "collapsed": true
   },
   "outputs": [],
   "source": [
    "def sum_primes_below(n):\n",
    "    start = time.time()\n",
    "    s = next_prime(2)\n",
    "    primesum = 0\n",
    "    newprime = 0\n",
    "    while newprime < n:\n",
    "        primesum += newprime\n",
    "        newprime = next(s)\n",
    "    end = time.time()\n",
    "    print 'Took %s seconds' %(end - start)\n",
    "    return primesum"
   ]
  },
  {
   "cell_type": "code",
   "execution_count": 50,
   "metadata": {},
   "outputs": [
    {
     "name": "stdout",
     "output_type": "stream",
     "text": [
      "Took 12.7896850109 seconds\n",
      "142913828922\n"
     ]
    }
   ],
   "source": [
    "print sum_primes_below(2000000)"
   ]
  },
  {
   "cell_type": "code",
   "execution_count": null,
   "metadata": {
    "collapsed": true
   },
   "outputs": [],
   "source": [
    "### Problem 11 -- Largest product in a grid\n",
    "# What is the greatest product of four adjacent numbers in the same direction \n",
    "# (up, down, left, right, or diagonally) in the 20×20 grid?"
   ]
  },
  {
   "cell_type": "code",
   "execution_count": 61,
   "metadata": {
    "collapsed": true
   },
   "outputs": [],
   "source": [
    "array_string = \"\"\"08 02 22 97 38 15 00 40 00 75 04 05 07 78 52 12 50 77 91 08\n",
    "49 49 99 40 17 81 18 57 60 87 17 40 98 43 69 48 04 56 62 00\n",
    "81 49 31 73 55 79 14 29 93 71 40 67 53 88 30 03 49 13 36 65\n",
    "52 70 95 23 04 60 11 42 69 24 68 56 01 32 56 71 37 02 36 91\n",
    "22 31 16 71 51 67 63 89 41 92 36 54 22 40 40 28 66 33 13 80\n",
    "24 47 32 60 99 03 45 02 44 75 33 53 78 36 84 20 35 17 12 50\n",
    "32 98 81 28 64 23 67 10 26 38 40 67 59 54 70 66 18 38 64 70\n",
    "67 26 20 68 02 62 12 20 95 63 94 39 63 08 40 91 66 49 94 21\n",
    "24 55 58 05 66 73 99 26 97 17 78 78 96 83 14 88 34 89 63 72\n",
    "21 36 23 09 75 00 76 44 20 45 35 14 00 61 33 97 34 31 33 95\n",
    "78 17 53 28 22 75 31 67 15 94 03 80 04 62 16 14 09 53 56 92\n",
    "16 39 05 42 96 35 31 47 55 58 88 24 00 17 54 24 36 29 85 57\n",
    "86 56 00 48 35 71 89 07 05 44 44 37 44 60 21 58 51 54 17 58\n",
    "19 80 81 68 05 94 47 69 28 73 92 13 86 52 17 77 04 89 55 40\n",
    "04 52 08 83 97 35 99 16 07 97 57 32 16 26 26 79 33 27 98 66\n",
    "88 36 68 87 57 62 20 72 03 46 33 67 46 55 12 32 63 93 53 69\n",
    "04 42 16 73 38 25 39 11 24 94 72 18 08 46 29 32 40 62 76 36\n",
    "20 69 36 41 72 30 23 88 34 62 99 69 82 67 59 85 74 04 36 16\n",
    "20 73 35 29 78 31 90 01 74 31 49 71 48 86 81 16 23 57 05 54\n",
    "01 70 54 71 83 51 54 69 16 92 33 48 61 43 52 01 89 19 67 48\"\"\""
   ]
  },
  {
   "cell_type": "code",
   "execution_count": 65,
   "metadata": {},
   "outputs": [],
   "source": [
    "format_array = [[int(n) for n in line.split(' ')] for line in array_string.split('\\n')]"
   ]
  },
  {
   "cell_type": "code",
   "execution_count": 77,
   "metadata": {
    "collapsed": true
   },
   "outputs": [],
   "source": [
    "def adjacent_product(narr):\n",
    "    maxsum = 0\n",
    "    for i in range(20):\n",
    "        for j in range(20):\n",
    "            if i>2:  # look up\n",
    "                prod = 1\n",
    "                for x in range(4):\n",
    "                      prod *= narr[i-x][j]\n",
    "                maxsum = max(maxsum, prod)\n",
    "            if j>2:  # look left\n",
    "                prod = 1\n",
    "                for x in range(4):\n",
    "                      prod *= narr[i][j-x]\n",
    "                maxsum = max(maxsum, prod)\n",
    "            if i<17:  # look down\n",
    "                prod = 1\n",
    "                for x in range(4):\n",
    "                      prod *= narr[i+x][j]\n",
    "                maxsum = max(maxsum, prod)\n",
    "            if j<17:  # look right\n",
    "                prod = 1\n",
    "                for x in range(4):\n",
    "                      prod *= narr[i][j+x]\n",
    "                maxsum = max(maxsum, prod)\n",
    "            if i>2 and j>2: # diag up left\n",
    "                prod = 1\n",
    "                for x in range(4):\n",
    "                      prod *= narr[i-x][j-x]\n",
    "                maxsum = max(maxsum, prod)\n",
    "            if i>2 and j<17: # diag up right\n",
    "                prod = 1\n",
    "                for x in range(4):\n",
    "                      prod *= narr[i-x][j+x]\n",
    "                maxsum = max(maxsum, prod)\n",
    "            if i<17 and j>2: # diag down left\n",
    "                prod = 1\n",
    "                for x in range(4):\n",
    "                      prod *= narr[i+x][j-x]\n",
    "                maxsum = max(maxsum, prod)\n",
    "            if i<17 and j<17: # diag down right\n",
    "                prod = 1\n",
    "                for x in range(4):\n",
    "                      prod *= narr[i+x][j+x]\n",
    "                maxsum = max(maxsum, prod)\n",
    "    return maxsum"
   ]
  },
  {
   "cell_type": "code",
   "execution_count": 78,
   "metadata": {},
   "outputs": [
    {
     "name": "stdout",
     "output_type": "stream",
     "text": [
      "70600674\n"
     ]
    }
   ],
   "source": [
    "print adjacent_product(format_array)"
   ]
  },
  {
   "cell_type": "code",
   "execution_count": 128,
   "metadata": {},
   "outputs": [
    {
     "name": "stdout",
     "output_type": "stream",
     "text": [
      "1651104\n"
     ]
    }
   ],
   "source": [
    "print dirs(0,0)"
   ]
  },
  {
   "cell_type": "code",
   "execution_count": 134,
   "metadata": {
    "collapsed": true
   },
   "outputs": [],
   "source": [
    "### Problem 12 -- Highly divisible triangular number\n",
    "# What is the value of the first triangle number to have over five hundred divisors?\n",
    "# The sequence of triangle numbers is generated by adding the natural numbers. \n",
    "\n",
    "# So the 7th triangle number would be 1 + 2 + 3 + 4 + 5 + 6 + 7 = 28. \n",
    "\n",
    "# The first ten terms would be:\n",
    "\n",
    "# 1, 3, 6, 10, 15, 21, 28, 36, 45, 55, ...\n",
    "\n",
    "# Let us list the factors of the first seven triangle numbers:\n",
    "\n",
    "#  1: 1\n",
    "#  3: 1,3\n",
    "#  6: 1,2,3,6\n",
    "# 10: 1,2,5,10\n",
    "# 15: 1,3,5,15\n",
    "# 21: 1,3,7,21\n",
    "# 28: 1,2,4,7,14,28\n",
    "# We can see that 28 is the first triangle number to have over five divisors.\n",
    "\n",
    "# What is the value of the first triangle number to have over five hundred divisors?"
   ]
  },
  {
   "cell_type": "code",
   "execution_count": 81,
   "metadata": {
    "collapsed": true
   },
   "outputs": [],
   "source": [
    "def count_divisors(n):\n",
    "    # return number of divisors of n\n",
    "    divisors = 1\n",
    "    for i in range(1,int(math.sqrt(n))): \n",
    "        if n%i == 0:\n",
    "            divisors += 2\n",
    "    if int(math.sqrt(n))**2 == n: #don't double count the square root\n",
    "        divisors -= 1\n",
    "    return divisors"
   ]
  },
  {
   "cell_type": "code",
   "execution_count": 82,
   "metadata": {},
   "outputs": [
    {
     "data": {
      "text/plain": [
       "3"
      ]
     },
     "execution_count": 82,
     "metadata": {},
     "output_type": "execute_result"
    }
   ],
   "source": [
    "count_divisors(6)"
   ]
  },
  {
   "cell_type": "code",
   "execution_count": 90,
   "metadata": {
    "collapsed": true
   },
   "outputs": [],
   "source": [
    "def generate_triangles():\n",
    "    stage = 1\n",
    "    triangle = 1\n",
    "    while True:\n",
    "        yield triangle\n",
    "        stage += 1\n",
    "        triangle += stage"
   ]
  },
  {
   "cell_type": "code",
   "execution_count": 103,
   "metadata": {
    "collapsed": true
   },
   "outputs": [],
   "source": [
    "def tri_with_n_divisors(n):\n",
    "    start = time.time()\n",
    "    triangle = generate_triangles()\n",
    "    tri = next(triangle)\n",
    "    divisors = count_divisors(tri)\n",
    "    while divisors <= n:\n",
    "        tri = next(triangle)\n",
    "        divisors = count_divisors(tri)\n",
    "    end = time.time()\n",
    "    print 'Took %s seconds' %(end - start)\n",
    "    return tri"
   ]
  },
  {
   "cell_type": "code",
   "execution_count": 105,
   "metadata": {},
   "outputs": [
    {
     "name": "stdout",
     "output_type": "stream",
     "text": [
      "Took 5.29289793968 seconds\n",
      "76576500\n"
     ]
    }
   ],
   "source": [
    "print tri_with_n_divisors(500)"
   ]
  }
 ],
 "metadata": {
  "kernelspec": {
   "display_name": "Python 2",
   "language": "python",
   "name": "python2"
  },
  "language_info": {
   "codemirror_mode": {
    "name": "ipython",
    "version": 2
   },
   "file_extension": ".py",
   "mimetype": "text/x-python",
   "name": "python",
   "nbconvert_exporter": "python",
   "pygments_lexer": "ipython2",
   "version": "2.7.10"
  }
 },
 "nbformat": 4,
 "nbformat_minor": 1
}
