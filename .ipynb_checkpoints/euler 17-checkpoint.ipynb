{
 "cells": [
  {
   "cell_type": "code",
   "execution_count": null,
   "metadata": {
    "collapsed": true
   },
   "outputs": [],
   "source": [
    "# If the numbers 1 to 5 are written out in words: \n",
    "#     one, two, three, four, five,\n",
    "#     then there are 3 + 3 + 5 + 4 + 4 = 19 letters used \n",
    "#     in total.\n",
    "\n",
    "# If all the numbers from 1 to 1000 (one thousand) \n",
    "# inclusive were written out in words, how many letters\n",
    "# would be used?\n"
   ]
  },
  {
   "cell_type": "code",
   "execution_count": 50,
   "metadata": {},
   "outputs": [],
   "source": [
    "def wordy_number(n):\n",
    "    name = \"\"\n",
    "    if n == 1000:\n",
    "        return \"one thousand\"\n",
    "    if n>99:\n",
    "        hundred_digit = units[n/100-1]\n",
    "        name += hundred_digit + \" hundred\"\n",
    "        n = n%100\n",
    "        if n == 0:\n",
    "            return name\n",
    "        else:\n",
    "            name += ' and '\n",
    "    if n<=10:\n",
    "        name += units[n-1]\n",
    "    elif n>10 and n<20:\n",
    "        name += teens[n-11]\n",
    "    if n>=20:\n",
    "        unit_digit = n%10\n",
    "        if unit_digit == 0:\n",
    "            name += tens[(n/10)-2]\n",
    "        else:\n",
    "            name += tens[(n/10)-2] + ' ' + units[unit_digit -1]\n",
    "    return name"
   ]
  },
  {
   "cell_type": "code",
   "execution_count": 48,
   "metadata": {},
   "outputs": [],
   "source": [
    "def count_letters(limit):\n",
    "    # returns the number of leters used to write all the numbers up to limit\n",
    "    total_letters = 0\n",
    "    for i in range(1,limit+1):\n",
    "        word = wordy_number(i)\n",
    "        total_letters += sum([len(w) for w in word.split(' ')])\n",
    "    return total_letters"
   ]
  },
  {
   "cell_type": "code",
   "execution_count": 51,
   "metadata": {},
   "outputs": [
    {
     "name": "stdout",
     "output_type": "stream",
     "text": [
      "21124\n"
     ]
    }
   ],
   "source": [
    "print count_letters(1000)"
   ]
  },
  {
   "cell_type": "code",
   "execution_count": null,
   "metadata": {
    "collapsed": true
   },
   "outputs": [],
   "source": []
  }
 ],
 "metadata": {
  "kernelspec": {
   "display_name": "Python 2",
   "language": "python",
   "name": "python2"
  },
  "language_info": {
   "codemirror_mode": {
    "name": "ipython",
    "version": 2
   },
   "file_extension": ".py",
   "mimetype": "text/x-python",
   "name": "python",
   "nbconvert_exporter": "python",
   "pygments_lexer": "ipython2",
   "version": "2.7.10"
  }
 },
 "nbformat": 4,
 "nbformat_minor": 1
}
