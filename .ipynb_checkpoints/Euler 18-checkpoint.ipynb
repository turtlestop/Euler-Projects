{
 "cells": [
  {
   "cell_type": "code",
   "execution_count": 1,
   "metadata": {
    "collapsed": true
   },
   "outputs": [],
   "source": [
    "# Euler 18\n"
   ]
  },
  {
   "cell_type": "code",
   "execution_count": 41,
   "metadata": {
    "collapsed": true
   },
   "outputs": [],
   "source": [
    "triangle_string = \"\"\"75\n",
    "95 64\n",
    "17 47 82\n",
    "18 35 87 10\n",
    "20 04 82 47 65\n",
    "19 01 23 75 03 34\n",
    "88 02 77 73 07 63 67\n",
    "99 65 04 28 06 16 70 92\n",
    "41 41 26 56 83 40 80 70 33\n",
    "41 48 72 33 47 32 37 16 94 29\n",
    "53 71 44 65 25 43 91 52 97 51 14\n",
    "70 11 33 28 77 73 17 78 39 68 17 57\n",
    "91 71 52 38 17 14 91 43 58 50 27 29 48\n",
    "63 66 04 68 89 53 67 30 73 16 69 87 40 31\n",
    "04 62 98 27 23 09 70 98 73 93 38 53 60 04 23\"\"\""
   ]
  },
  {
   "cell_type": "code",
   "execution_count": 54,
   "metadata": {
    "collapsed": true
   },
   "outputs": [],
   "source": [
    "triangle_list = [[int(num) for num in row.split(' ')] for row in triangle_string.split('\\n')]"
   ]
  },
  {
   "cell_type": "code",
   "execution_count": 18,
   "metadata": {
    "collapsed": true
   },
   "outputs": [],
   "source": [
    "import time"
   ]
  },
  {
   "cell_type": "code",
   "execution_count": 55,
   "metadata": {},
   "outputs": [],
   "source": [
    "def visibles((x,y)):\n",
    "    # given the incides for a number, return the indices of the two accessible numbers\n",
    "    return [(x+1,y),(x+1,y+1)]\n",
    "\n",
    "def parents((x,y)):\n",
    "    # given the incides for a number, return the indices of the two 'parent' numbers\n",
    "    parents = []\n",
    "    if x == 0:\n",
    "        return [] # the first element has no parents\n",
    "    if y>0:\n",
    "        parents.append((x-1,y-1))  # you only have a left parent if you're not in the first pos\n",
    "    if y<=x-1:\n",
    "        parents.append((x-1,y))    # you only have a right parent if you're not in the last pos \n",
    "    return parents\n",
    "\n",
    "def number((x,y)):\n",
    "    # given the indices for a number, returns the number\n",
    "    return triangle_list[x][y]\n",
    "\n",
    "def maximum_parent((x,y)):\n",
    "    # given the indices for a number, return the highest parent\n",
    "    if x==0:\n",
    "        return 0\n",
    "    return max([number(x) for x in parents((x,y))])\n",
    "\n",
    "def dynamic():\n",
    "    modifiable_list = list(triangle_list)\n",
    "    start = time.time()\n",
    "    for i,row in enumerate(triangle_list):\n",
    "        for j,numb in enumerate(row):\n",
    "            modifiable_list[i][j] = modifiable_list[i][j] + maximum_parent((i,j)) \n",
    "    end = time.time()\n",
    "    print 'Took %s seconds' %(end - start)\n",
    "    return max(triangle_list[-1])"
   ]
  },
  {
   "cell_type": "code",
   "execution_count": 56,
   "metadata": {},
   "outputs": [
    {
     "name": "stdout",
     "output_type": "stream",
     "text": [
      "Took 0.000643968582153 seconds\n",
      "1074\n"
     ]
    }
   ],
   "source": [
    "print dynamic()"
   ]
  }
 ],
 "metadata": {
  "kernelspec": {
   "display_name": "Python 2",
   "language": "python",
   "name": "python2"
  },
  "language_info": {
   "codemirror_mode": {
    "name": "ipython",
    "version": 2
   },
   "file_extension": ".py",
   "mimetype": "text/x-python",
   "name": "python",
   "nbconvert_exporter": "python",
   "pygments_lexer": "ipython2",
   "version": "2.7.10"
  }
 },
 "nbformat": 4,
 "nbformat_minor": 1
}
