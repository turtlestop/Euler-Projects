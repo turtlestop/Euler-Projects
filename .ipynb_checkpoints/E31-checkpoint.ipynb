{
 "cells": [
  {
   "cell_type": "raw",
   "metadata": {
    "scrolled": true
   },
   "source": [
    "In England the currency is made up of pound, £, and pence, p, and \n",
    "there are eight coins in general circulation:\n",
    "\n",
    "1p, 2p, 5p, 10p, 20p, 50p, £1 (100p) and £2 (200p).\n",
    "It is possible to make £2 in the following way:\n",
    "\n",
    "1×£1 + 1×50p + 2×20p + 1×5p + 1×2p + 3×1p\n",
    "How many different ways can £2 be made using any number of coins?"
   ]
  },
  {
   "cell_type": "code",
   "execution_count": 45,
   "metadata": {},
   "outputs": [],
   "source": [
    "coins = [2,1,0.5,0.2,0.05, 0.02, 0.01]"
   ]
  },
  {
   "cell_type": "code",
   "execution_count": 56,
   "metadata": {
    "collapsed": true
   },
   "outputs": [],
   "source": [
    "# want: a function that, given a list of coin values and a goal, returns the number\n",
    "# of ways of reaching the goal given those coins. It should be call itself \n",
    "# recursively. The base case will be when the list of coin values contains only\n",
    "# a single value.\n",
    "\n",
    "def recurse_coins(target, values):\n",
    "    ways = 0\n",
    "    if len(values) == 1:\n",
    "        return 1\n",
    "    else:\n",
    "        for coin in values:\n",
    "            values.remove(coin)\n",
    "            options = int(target / coin)\n",
    "            print \"options: %s; target: %s; coin: %s\" %(options, target,coin)\n",
    "            for i in range(0,options+1):\n",
    "                remainder = int(target - i*coin)\n",
    "                ways += recurse_coins(remainder, values)\n",
    "    return ways"
   ]
  },
  {
   "cell_type": "code",
   "execution_count": 57,
   "metadata": {},
   "outputs": [
    {
     "name": "stdout",
     "output_type": "stream",
     "text": [
      "options: 1; target: 2; coin: 2\n",
      "options: 2; target: 2; coin: 1\n",
      "options: 4; target: 2; coin: 0.5\n",
      "options: 10; target: 2; coin: 0.2\n",
      "options: 20; target: 2; coin: 0.1\n",
      "options: 40; target: 2; coin: 0.05\n",
      "options: 100; target: 2; coin: 0.02\n",
      "178\n"
     ]
    }
   ],
   "source": [
    "print recurse_coins(2,[2,1,0.5,0.2,0.1,0.05,0.02,0.01])"
   ]
  },
  {
   "cell_type": "code",
   "execution_count": null,
   "metadata": {
    "collapsed": true
   },
   "outputs": [],
   "source": []
  }
 ],
 "metadata": {
  "kernelspec": {
   "display_name": "Python 2",
   "language": "python",
   "name": "python2"
  },
  "language_info": {
   "codemirror_mode": {
    "name": "ipython",
    "version": 2
   },
   "file_extension": ".py",
   "mimetype": "text/x-python",
   "name": "python",
   "nbconvert_exporter": "python",
   "pygments_lexer": "ipython2",
   "version": "2.7.10"
  }
 },
 "nbformat": 4,
 "nbformat_minor": 1
}
