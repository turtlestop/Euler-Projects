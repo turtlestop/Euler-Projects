{
 "cells": [
  {
   "cell_type": "code",
   "execution_count": null,
   "metadata": {
    "collapsed": true
   },
   "outputs": [],
   "source": [
    "# Euler problem 15##\n",
    "\n",
    "# How many routes through a 20x20 grid?\n",
    "# brute force: count them; smarter: combinatorial"
   ]
  },
  {
   "cell_type": "code",
   "execution_count": null,
   "metadata": {
    "collapsed": true
   },
   "outputs": [],
   "source": [
    "# there are exactly two options in every square *except* the bottom and right"
   ]
  },
  {
   "cell_type": "code",
   "execution_count": 1,
   "metadata": {
    "collapsed": true
   },
   "outputs": [],
   "source": [
    "import time"
   ]
  },
  {
   "cell_type": "code",
   "execution_count": null,
   "metadata": {},
   "outputs": [],
   "source": [
    "# recursive solution: there are as many routes to square x,y as there are to x-1,y + x, y-1\n",
    "\n",
    "memoize = {}\n",
    "\n",
    "def count_ways(x,y):\n",
    "    # too slow, even with memoizing. Makes sense, since there are 137,846,528,820 ways!\n",
    "    if x==0 and y == 0:\n",
    "        return 1\n",
    "    if x<0 or y<0:\n",
    "        return 0\n",
    "    else:\n",
    "        up = 0\n",
    "        left = 0\n",
    "        if (x-1, y) in memoize.keys():\n",
    "            up = memoize[(x-1,y)]\n",
    "        else:\n",
    "            up = count_ways(x-1,y)\n",
    "        if (x,y-1) in memoize.keys():\n",
    "            left = memoize[x,y-1]\n",
    "        else:\n",
    "            left = count_ways(x,y-1)\n",
    "        end = time.time()\n",
    "        return up + left\n",
    "\n",
    "start = time.time()\n",
    "print count_ways(19,19)\n",
    "end = time.time()\n",
    "duration = end - start\n",
    "print 'Took %s s' %duration"
   ]
  },
  {
   "cell_type": "code",
   "execution_count": 5,
   "metadata": {},
   "outputs": [],
   "source": [
    "# instead, we can take advantage of the fact that we need to go right 20 times and down\n",
    "# 20 times. I.e., the question is: how many different ways can you order a list of 20 Ds and 20\n",
    "# Rs?\n",
    "\n",
    "import math\n",
    "def factorial(x):\n",
    "    return math.factorial(x)"
   ]
  },
  {
   "cell_type": "code",
   "execution_count": 6,
   "metadata": {
    "collapsed": true
   },
   "outputs": [],
   "source": [
    "def combinations(n,x):\n",
    "    return factorial(n)/(factorial(n-x)*factorial(x))"
   ]
  },
  {
   "cell_type": "code",
   "execution_count": 8,
   "metadata": {},
   "outputs": [
    {
     "name": "stdout",
     "output_type": "stream",
     "text": [
      "137846528820\n"
     ]
    }
   ],
   "source": [
    "print combinations(40,20)"
   ]
  },
  {
   "cell_type": "code",
   "execution_count": null,
   "metadata": {
    "collapsed": true
   },
   "outputs": [],
   "source": []
  }
 ],
 "metadata": {
  "kernelspec": {
   "display_name": "Python 2",
   "language": "python",
   "name": "python2"
  },
  "language_info": {
   "codemirror_mode": {
    "name": "ipython",
    "version": 2
   },
   "file_extension": ".py",
   "mimetype": "text/x-python",
   "name": "python",
   "nbconvert_exporter": "python",
   "pygments_lexer": "ipython2",
   "version": "2.7.10"
  }
 },
 "nbformat": 4,
 "nbformat_minor": 1
}
