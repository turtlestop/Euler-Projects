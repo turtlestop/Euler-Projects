{
 "cells": [
  {
   "cell_type": "code",
   "execution_count": 1,
   "metadata": {
    "collapsed": true
   },
   "outputs": [],
   "source": [
    "import time"
   ]
  },
  {
   "cell_type": "code",
   "execution_count": 11,
   "metadata": {
    "collapsed": true
   },
   "outputs": [],
   "source": [
    "with open('p067_triangle.txt', 'r') as f:\n",
    "    tri_string = f.read()"
   ]
  },
  {
   "cell_type": "code",
   "execution_count": 12,
   "metadata": {
    "collapsed": true
   },
   "outputs": [],
   "source": [
    "tri_list = [[int(num) for num in row.split(' ')] for row in tri_string.split('\\n')[:-1]]"
   ]
  },
  {
   "cell_type": "code",
   "execution_count": 13,
   "metadata": {
    "collapsed": true
   },
   "outputs": [],
   "source": [
    "# simple case of applying the algorithm from problem 18.\n",
    "\n",
    "def visibles((x,y)):\n",
    "    # given the incides for a number, return the indices of the two accessible numbers\n",
    "    return [(x+1,y),(x+1,y+1)]\n",
    "\n",
    "def parents((x,y)):\n",
    "    # given the incides for a number, return the indices of the two 'parent' numbers\n",
    "    parents = []\n",
    "    if x == 0:\n",
    "        return [] # the first element has no parents\n",
    "    if y>0:\n",
    "        parents.append((x-1,y-1))  # you only have a left parent if you're not in the first pos\n",
    "    if y<=x-1:\n",
    "        parents.append((x-1,y))    # you only have a right parent if you're not in the last pos \n",
    "    return parents\n",
    "\n",
    "def number((x,y)):\n",
    "    # given the indices for a number, returns the number\n",
    "    return tri_list[x][y]\n",
    "\n",
    "def maximum_parent((x,y)):\n",
    "    # given the indices for a number, return the highest parent\n",
    "    if x==0:\n",
    "        return 0\n",
    "    return max([number(x) for x in parents((x,y))])\n",
    "\n",
    "def dynamic():\n",
    "    start = time.time()\n",
    "    for i,row in enumerate(tri_list):\n",
    "        for j,numb in enumerate(row):\n",
    "            tri_list[i][j] = tri_list[i][j] + maximum_parent((i,j)) \n",
    "    end = time.time()\n",
    "    print 'Took %s seconds' %(end - start)\n",
    "    return max(tri_list[-1])"
   ]
  },
  {
   "cell_type": "code",
   "execution_count": 14,
   "metadata": {},
   "outputs": [
    {
     "name": "stdout",
     "output_type": "stream",
     "text": [
      "Took 0.0214550495148 seconds\n",
      "7273\n"
     ]
    }
   ],
   "source": [
    "print dynamic()"
   ]
  }
 ],
 "metadata": {
  "kernelspec": {
   "display_name": "Python 2",
   "language": "python",
   "name": "python2"
  },
  "language_info": {
   "codemirror_mode": {
    "name": "ipython",
    "version": 2
   },
   "file_extension": ".py",
   "mimetype": "text/x-python",
   "name": "python",
   "nbconvert_exporter": "python",
   "pygments_lexer": "ipython2",
   "version": "2.7.10"
  }
 },
 "nbformat": 4,
 "nbformat_minor": 2
}
