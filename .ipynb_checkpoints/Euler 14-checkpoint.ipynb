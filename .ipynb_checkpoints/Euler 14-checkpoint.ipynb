{
 "cells": [
  {
   "cell_type": "code",
   "execution_count": 1,
   "metadata": {
    "collapsed": true
   },
   "outputs": [],
   "source": [
    "### Problem 14: Largest Collatz Sequence\n",
    "\n",
    "# The following iterative sequence is defined for the set of positive integers:\n",
    "\n",
    "# n → n/2 (n is even)\n",
    "# n → 3n + 1 (n is odd)\n",
    "\n",
    "# Using the rule above and starting with 13, we generate the following sequence:\n",
    "\n",
    "# 13 → 40 → 20 → 10 → 5 → 16 → 8 → 4 → 2 → 1\n",
    "# It can be seen that this sequence (starting at 13 and finishing at 1) contains 10 terms. \n",
    "# Although it has not been proved yet (Collatz Problem), it is thought that all starting \n",
    "# numbers finish at 1.\n",
    "\n",
    "# Which starting number, under one million, produces the longest chain?\n",
    "\n",
    "# NOTE: Once the chain starts the terms are allowed to go above one million."
   ]
  },
  {
   "cell_type": "code",
   "execution_count": 2,
   "metadata": {
    "collapsed": true
   },
   "outputs": [],
   "source": [
    "import time"
   ]
  },
  {
   "cell_type": "code",
   "execution_count": 3,
   "metadata": {
    "collapsed": true
   },
   "outputs": [],
   "source": [
    "def next_collatz(n):\n",
    "    if n%2 == 0:\n",
    "        return n/2\n",
    "    else:\n",
    "        return 3*n + 1\n",
    "\n",
    "def collatz_sequence(chain):\n",
    "    while not chain[-1] == 1:\n",
    "        chain.append(next_collatz(chain[-1]))\n",
    "    return chain"
   ]
  },
  {
   "cell_type": "code",
   "execution_count": 18,
   "metadata": {
    "collapsed": true
   },
   "outputs": [],
   "source": [
    "def find_longest_collatz(limit):\n",
    "    start = time.time()\n",
    "    longest_chain = [1, len(collatz_sequence([1]))]\n",
    "    for i in range(1, limit+1):\n",
    "        this_chain = [i,len(collatz_sequence([i]))]\n",
    "        if this_chain[1] > longest_chain[1]:\n",
    "            longest_chain = this_chain\n",
    "    end = time.time()\n",
    "    duration = end - start\n",
    "    print 'Took %s s' %duration\n",
    "    return longest_chain[0]"
   ]
  },
  {
   "cell_type": "code",
   "execution_count": 20,
   "metadata": {},
   "outputs": [
    {
     "name": "stdout",
     "output_type": "stream",
     "text": [
      "Took 55.8032009602 s\n",
      "837799\n"
     ]
    }
   ],
   "source": [
    "print find_longest_collatz(999999)"
   ]
  }
 ],
 "metadata": {
  "kernelspec": {
   "display_name": "Python 2",
   "language": "python",
   "name": "python2"
  },
  "language_info": {
   "codemirror_mode": {
    "name": "ipython",
    "version": 2
   },
   "file_extension": ".py",
   "mimetype": "text/x-python",
   "name": "python",
   "nbconvert_exporter": "python",
   "pygments_lexer": "ipython2",
   "version": "2.7.10"
  }
 },
 "nbformat": 4,
 "nbformat_minor": 2
}
